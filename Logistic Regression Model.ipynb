{
 "cells": [
  {
   "cell_type": "code",
   "execution_count": 1,
   "id": "a17cf311",
   "metadata": {},
   "outputs": [],
   "source": [
    "import pandas as pd\n",
    "\n",
    "df = pd.read_csv('/Users/pauviramontes/Downloads/Crop_recommendation.csv')"
   ]
  },
  {
   "cell_type": "code",
   "execution_count": 2,
   "id": "83927d13",
   "metadata": {},
   "outputs": [
    {
     "data": {
      "text/html": [
       "<div>\n",
       "<style scoped>\n",
       "    .dataframe tbody tr th:only-of-type {\n",
       "        vertical-align: middle;\n",
       "    }\n",
       "\n",
       "    .dataframe tbody tr th {\n",
       "        vertical-align: top;\n",
       "    }\n",
       "\n",
       "    .dataframe thead th {\n",
       "        text-align: right;\n",
       "    }\n",
       "</style>\n",
       "<table border=\"1\" class=\"dataframe\">\n",
       "  <thead>\n",
       "    <tr style=\"text-align: right;\">\n",
       "      <th></th>\n",
       "      <th>N</th>\n",
       "      <th>P</th>\n",
       "      <th>K</th>\n",
       "      <th>temperature</th>\n",
       "      <th>humidity</th>\n",
       "      <th>ph</th>\n",
       "      <th>rainfall</th>\n",
       "      <th>label</th>\n",
       "    </tr>\n",
       "  </thead>\n",
       "  <tbody>\n",
       "    <tr>\n",
       "      <th>0</th>\n",
       "      <td>90</td>\n",
       "      <td>42</td>\n",
       "      <td>43</td>\n",
       "      <td>20.879744</td>\n",
       "      <td>82.002744</td>\n",
       "      <td>6.502985</td>\n",
       "      <td>202.935536</td>\n",
       "      <td>rice</td>\n",
       "    </tr>\n",
       "    <tr>\n",
       "      <th>1</th>\n",
       "      <td>85</td>\n",
       "      <td>58</td>\n",
       "      <td>41</td>\n",
       "      <td>21.770462</td>\n",
       "      <td>80.319644</td>\n",
       "      <td>7.038096</td>\n",
       "      <td>226.655537</td>\n",
       "      <td>rice</td>\n",
       "    </tr>\n",
       "    <tr>\n",
       "      <th>2</th>\n",
       "      <td>60</td>\n",
       "      <td>55</td>\n",
       "      <td>44</td>\n",
       "      <td>23.004459</td>\n",
       "      <td>82.320763</td>\n",
       "      <td>7.840207</td>\n",
       "      <td>263.964248</td>\n",
       "      <td>rice</td>\n",
       "    </tr>\n",
       "    <tr>\n",
       "      <th>3</th>\n",
       "      <td>74</td>\n",
       "      <td>35</td>\n",
       "      <td>40</td>\n",
       "      <td>26.491096</td>\n",
       "      <td>80.158363</td>\n",
       "      <td>6.980401</td>\n",
       "      <td>242.864034</td>\n",
       "      <td>rice</td>\n",
       "    </tr>\n",
       "    <tr>\n",
       "      <th>4</th>\n",
       "      <td>78</td>\n",
       "      <td>42</td>\n",
       "      <td>42</td>\n",
       "      <td>20.130175</td>\n",
       "      <td>81.604873</td>\n",
       "      <td>7.628473</td>\n",
       "      <td>262.717340</td>\n",
       "      <td>rice</td>\n",
       "    </tr>\n",
       "    <tr>\n",
       "      <th>5</th>\n",
       "      <td>69</td>\n",
       "      <td>37</td>\n",
       "      <td>42</td>\n",
       "      <td>23.058049</td>\n",
       "      <td>83.370118</td>\n",
       "      <td>7.073454</td>\n",
       "      <td>251.055000</td>\n",
       "      <td>rice</td>\n",
       "    </tr>\n",
       "    <tr>\n",
       "      <th>6</th>\n",
       "      <td>69</td>\n",
       "      <td>55</td>\n",
       "      <td>38</td>\n",
       "      <td>22.708838</td>\n",
       "      <td>82.639414</td>\n",
       "      <td>5.700806</td>\n",
       "      <td>271.324860</td>\n",
       "      <td>rice</td>\n",
       "    </tr>\n",
       "    <tr>\n",
       "      <th>7</th>\n",
       "      <td>94</td>\n",
       "      <td>53</td>\n",
       "      <td>40</td>\n",
       "      <td>20.277744</td>\n",
       "      <td>82.894086</td>\n",
       "      <td>5.718627</td>\n",
       "      <td>241.974195</td>\n",
       "      <td>rice</td>\n",
       "    </tr>\n",
       "    <tr>\n",
       "      <th>8</th>\n",
       "      <td>89</td>\n",
       "      <td>54</td>\n",
       "      <td>38</td>\n",
       "      <td>24.515881</td>\n",
       "      <td>83.535216</td>\n",
       "      <td>6.685346</td>\n",
       "      <td>230.446236</td>\n",
       "      <td>rice</td>\n",
       "    </tr>\n",
       "    <tr>\n",
       "      <th>9</th>\n",
       "      <td>68</td>\n",
       "      <td>58</td>\n",
       "      <td>38</td>\n",
       "      <td>23.223974</td>\n",
       "      <td>83.033227</td>\n",
       "      <td>6.336254</td>\n",
       "      <td>221.209196</td>\n",
       "      <td>rice</td>\n",
       "    </tr>\n",
       "  </tbody>\n",
       "</table>\n",
       "</div>"
      ],
      "text/plain": [
       "    N   P   K  temperature   humidity        ph    rainfall label\n",
       "0  90  42  43    20.879744  82.002744  6.502985  202.935536  rice\n",
       "1  85  58  41    21.770462  80.319644  7.038096  226.655537  rice\n",
       "2  60  55  44    23.004459  82.320763  7.840207  263.964248  rice\n",
       "3  74  35  40    26.491096  80.158363  6.980401  242.864034  rice\n",
       "4  78  42  42    20.130175  81.604873  7.628473  262.717340  rice\n",
       "5  69  37  42    23.058049  83.370118  7.073454  251.055000  rice\n",
       "6  69  55  38    22.708838  82.639414  5.700806  271.324860  rice\n",
       "7  94  53  40    20.277744  82.894086  5.718627  241.974195  rice\n",
       "8  89  54  38    24.515881  83.535216  6.685346  230.446236  rice\n",
       "9  68  58  38    23.223974  83.033227  6.336254  221.209196  rice"
      ]
     },
     "execution_count": 2,
     "metadata": {},
     "output_type": "execute_result"
    }
   ],
   "source": [
    "df.head(10)"
   ]
  },
  {
   "cell_type": "code",
   "execution_count": 3,
   "id": "537ae4ce",
   "metadata": {},
   "outputs": [],
   "source": [
    "df['label'] = df['label'].astype(str)"
   ]
  },
  {
   "cell_type": "code",
   "execution_count": 4,
   "id": "d203fea3",
   "metadata": {},
   "outputs": [
    {
     "data": {
      "text/plain": [
       "rice          139\n",
       "Soyabeans     130\n",
       "banana        130\n",
       "beans         125\n",
       "cowpeas       122\n",
       "orange        122\n",
       "maize         119\n",
       "coffee        110\n",
       "peas          100\n",
       "groundnuts    100\n",
       "mango         100\n",
       "grapes        100\n",
       "watermelon    100\n",
       "apple         100\n",
       "cotton        100\n",
       "Name: label, dtype: int64"
      ]
     },
     "execution_count": 4,
     "metadata": {},
     "output_type": "execute_result"
    }
   ],
   "source": [
    "df['label'].value_counts()"
   ]
  },
  {
   "cell_type": "code",
   "execution_count": 5,
   "id": "52ea801c",
   "metadata": {},
   "outputs": [
    {
     "data": {
      "text/plain": [
       "15"
      ]
     },
     "execution_count": 5,
     "metadata": {},
     "output_type": "execute_result"
    }
   ],
   "source": [
    "df['label'].nunique()"
   ]
  },
  {
   "cell_type": "code",
   "execution_count": 6,
   "id": "678c25af",
   "metadata": {},
   "outputs": [],
   "source": [
    "df['label'] = df['label'].str.strip()"
   ]
  },
  {
   "cell_type": "code",
   "execution_count": 7,
   "id": "1d6aa16f",
   "metadata": {},
   "outputs": [
    {
     "name": "stdout",
     "output_type": "stream",
     "text": [
      "Unique values in target variable: ['rice' 'maize' 'soyabeans' 'beans' 'peas' 'groundnuts' 'cowpeas' 'banana'\n",
      " 'mango' 'grapes' 'watermelon' 'apple' 'orange' 'cotton' 'coffee']\n",
      "Number of classes: 15\n",
      "rice          139\n",
      "soyabeans     130\n",
      "banana        130\n",
      "beans         125\n",
      "cowpeas       122\n",
      "orange        122\n",
      "maize         119\n",
      "coffee        110\n",
      "peas          100\n",
      "groundnuts    100\n",
      "mango         100\n",
      "grapes        100\n",
      "watermelon    100\n",
      "apple         100\n",
      "cotton        100\n",
      "Name: label, dtype: int64\n"
     ]
    }
   ],
   "source": [
    "df['label'] = df['label'].astype(str).str.lower()\n",
    "\n",
    "\n",
    "# Check number of unique classes in target variable\n",
    "print(\"Unique values in target variable:\", df['label'].unique())\n",
    "print(\"Number of classes:\", len(df['label'].unique()))\n",
    "\n",
    "# Check class distribution\n",
    "print(df['label'].value_counts())"
   ]
  },
  {
   "cell_type": "code",
   "execution_count": 8,
   "id": "f2f88f3a",
   "metadata": {},
   "outputs": [],
   "source": [
    "X = df[['N', 'P', 'K', 'temperature', 'ph', 'rainfall']]"
   ]
  },
  {
   "cell_type": "code",
   "execution_count": 9,
   "id": "c800d0f7",
   "metadata": {},
   "outputs": [],
   "source": [
    "y = df['label']"
   ]
  },
  {
   "cell_type": "code",
   "execution_count": 10,
   "id": "d01d7032",
   "metadata": {},
   "outputs": [],
   "source": [
    "from sklearn.model_selection import train_test_split\n",
    "\n",
    "X_train, X_test, y_train, y_test = train_test_split(X, y, test_size=0.2, random_state=42)"
   ]
  },
  {
   "cell_type": "code",
   "execution_count": 13,
   "id": "b010dedc",
   "metadata": {},
   "outputs": [
    {
     "name": "stderr",
     "output_type": "stream",
     "text": [
      "/Users/pauviramontes/opt/anaconda3/lib/python3.9/site-packages/sklearn/linear_model/_logistic.py:814: ConvergenceWarning: lbfgs failed to converge (status=1):\n",
      "STOP: TOTAL NO. of ITERATIONS REACHED LIMIT.\n",
      "\n",
      "Increase the number of iterations (max_iter) or scale the data as shown in:\n",
      "    https://scikit-learn.org/stable/modules/preprocessing.html\n",
      "Please also refer to the documentation for alternative solver options:\n",
      "    https://scikit-learn.org/stable/modules/linear_model.html#logistic-regression\n",
      "  n_iter_i = _check_optimize_result(\n"
     ]
    },
    {
     "data": {
      "text/plain": [
       "LogisticRegression()"
      ]
     },
     "execution_count": 13,
     "metadata": {},
     "output_type": "execute_result"
    }
   ],
   "source": [
    "from sklearn.linear_model import LogisticRegression\n",
    "\n",
    "logreg = LogisticRegression()\n",
    "logreg.fit(X_train, y_train)"
   ]
  },
  {
   "cell_type": "code",
   "execution_count": 12,
   "id": "b7ef5dae",
   "metadata": {},
   "outputs": [
    {
     "name": "stdout",
     "output_type": "stream",
     "text": [
      "Unique values in target variable: ['apple' 'banana' 'beans' 'coffee' 'cotton' 'cowpeas' 'grapes'\n",
      " 'groundnuts' 'maize' 'mango' 'orange' 'peas' 'rice' 'soyabeans'\n",
      " 'watermelon']\n",
      "Number of classes: 15\n"
     ]
    }
   ],
   "source": [
    "import numpy as np\n",
    "\n",
    "unique_values = np.unique(df['label'])\n",
    "num_classes = len(unique_values)\n",
    "\n",
    "print(\"Unique values in target variable:\", unique_values)\n",
    "print(\"Number of classes:\", num_classes)\n"
   ]
  },
  {
   "cell_type": "code",
   "execution_count": 14,
   "id": "62dd7585",
   "metadata": {},
   "outputs": [],
   "source": [
    "y_pred = logreg.predict(X_test)"
   ]
  },
  {
   "cell_type": "code",
   "execution_count": 15,
   "id": "b1707f5d",
   "metadata": {},
   "outputs": [
    {
     "name": "stdout",
     "output_type": "stream",
     "text": [
      "['cowpeas' 'maize' 'maize' 'beans' 'cotton' 'coffee' 'cowpeas' 'banana'\n",
      " 'coffee' 'banana' 'orange' 'peas' 'peas' 'soyabeans' 'orange' 'cotton'\n",
      " 'mango' 'orange' 'beans' 'peas' 'maize' 'rice' 'banana' 'rice' 'rice'\n",
      " 'grapes' 'apple' 'banana' 'peas' 'cowpeas' 'maize' 'peas' 'orange'\n",
      " 'apple' 'grapes' 'cowpeas' 'coffee' 'banana' 'peas' 'cowpeas' 'soyabeans'\n",
      " 'mango' 'beans' 'mango' 'cowpeas' 'grapes' 'watermelon' 'apple' 'grapes'\n",
      " 'rice' 'rice' 'cowpeas' 'rice' 'beans' 'coffee' 'grapes' 'soyabeans'\n",
      " 'cowpeas' 'soyabeans' 'banana' 'cowpeas' 'beans' 'coffee' 'cowpeas'\n",
      " 'mango' 'banana' 'cotton' 'rice' 'cotton' 'beans' 'cowpeas' 'peas' 'peas'\n",
      " 'coffee' 'peas' 'coffee' 'peas' 'beans' 'watermelon' 'cotton' 'soyabeans'\n",
      " 'rice' 'cotton' 'cotton' 'orange' 'soyabeans' 'mango' 'rice' 'beans'\n",
      " 'rice' 'orange' 'cotton' 'cowpeas' 'mango' 'watermelon' 'soyabeans'\n",
      " 'watermelon' 'peas' 'cotton' 'cowpeas' 'beans' 'cotton' 'grapes' 'banana'\n",
      " 'soyabeans' 'beans' 'soyabeans' 'soyabeans' 'apple' 'cowpeas' 'grapes'\n",
      " 'peas' 'rice' 'peas' 'cotton' 'orange' 'beans' 'orange' 'mango' 'mango'\n",
      " 'banana' 'watermelon' 'groundnuts' 'watermelon' 'watermelon' 'mango'\n",
      " 'rice' 'coffee' 'cowpeas' 'beans' 'mango' 'rice' 'cotton' 'mango' 'beans'\n",
      " 'cotton' 'cotton' 'beans' 'apple' 'banana' 'cowpeas' 'beans' 'cotton'\n",
      " 'cowpeas' 'soyabeans' 'maize' 'peas' 'watermelon' 'mango' 'soyabeans'\n",
      " 'beans' 'apple' 'coffee' 'soyabeans' 'soyabeans' 'cotton' 'maize'\n",
      " 'cotton' 'cowpeas' 'coffee' 'mango' 'watermelon' 'cotton' 'peas' 'beans'\n",
      " 'mango' 'soyabeans' 'peas' 'coffee' 'peas' 'cowpeas' 'watermelon' 'rice'\n",
      " 'groundnuts' 'cotton' 'maize' 'cowpeas' 'banana' 'rice' 'maize' 'cowpeas'\n",
      " 'cowpeas' 'beans' 'mango' 'peas' 'apple' 'beans' 'apple' 'banana' 'beans'\n",
      " 'rice' 'banana' 'groundnuts' 'coffee' 'orange' 'groundnuts' 'cowpeas'\n",
      " 'soyabeans' 'peas' 'maize' 'orange' 'cotton' 'watermelon' 'orange'\n",
      " 'banana' 'groundnuts' 'grapes' 'coffee' 'watermelon' 'rice' 'banana'\n",
      " 'cotton' 'peas' 'grapes' 'beans' 'orange' 'apple' 'grapes' 'coffee'\n",
      " 'rice' 'watermelon' 'grapes' 'maize' 'watermelon' 'grapes' 'cowpeas'\n",
      " 'cowpeas' 'soyabeans' 'banana' 'groundnuts' 'peas' 'grapes' 'maize'\n",
      " 'banana' 'grapes' 'soyabeans' 'apple' 'soyabeans' 'maize' 'banana'\n",
      " 'coffee' 'soyabeans' 'soyabeans' 'banana' 'mango' 'apple' 'orange'\n",
      " 'grapes' 'banana' 'soyabeans' 'coffee' 'apple' 'grapes' 'apple' 'banana'\n",
      " 'groundnuts' 'soyabeans' 'apple' 'apple' 'beans' 'orange' 'coffee'\n",
      " 'mango' 'grapes' 'peas' 'cowpeas' 'beans' 'grapes' 'cotton' 'mango'\n",
      " 'beans' 'apple' 'beans' 'mango' 'mango' 'apple' 'mango' 'apple' 'apple'\n",
      " 'groundnuts' 'beans' 'maize' 'cowpeas' 'coffee' 'watermelon' 'cowpeas'\n",
      " 'banana' 'mango' 'grapes' 'maize' 'rice' 'soyabeans' 'peas' 'groundnuts'\n",
      " 'grapes' 'peas' 'apple' 'groundnuts' 'cotton' 'orange' 'maize' 'cowpeas'\n",
      " 'cowpeas' 'beans' 'banana' 'apple' 'apple' 'watermelon' 'cowpeas'\n",
      " 'orange' 'groundnuts' 'rice' 'beans' 'cowpeas' 'rice' 'maize' 'soyabeans'\n",
      " 'apple' 'maize' 'banana' 'maize' 'maize' 'banana' 'cotton' 'cowpeas'\n",
      " 'maize' 'beans' 'banana' 'watermelon' 'coffee' 'maize' 'grapes' 'cowpeas'\n",
      " 'beans' 'watermelon' 'cowpeas' 'peas' 'grapes' 'groundnuts' 'beans']\n"
     ]
    }
   ],
   "source": [
    "print(y_pred)\n"
   ]
  },
  {
   "cell_type": "code",
   "execution_count": 16,
   "id": "7e321e42",
   "metadata": {},
   "outputs": [
    {
     "name": "stdout",
     "output_type": "stream",
     "text": [
      "       Actual Predicted\n",
      "618   cowpeas   cowpeas\n",
      "115     maize     maize\n",
      "135     maize     maize\n",
      "350     beans     beans\n",
      "1395   cotton    cotton\n",
      "1447   coffee    coffee\n",
      "669   cowpeas   cowpeas\n",
      "1685   banana    banana\n",
      "1448   coffee    coffee\n",
      "772    banana    banana\n"
     ]
    }
   ],
   "source": [
    "import pandas as pd\n",
    "\n",
    "# create a DataFrame with the test data and the predicted values\n",
    "results = pd.DataFrame({'Actual': y_test, 'Predicted': y_pred})\n",
    "\n",
    "# display the first 10 rows of the results\n",
    "print(results.head(10))"
   ]
  },
  {
   "cell_type": "code",
   "execution_count": 18,
   "id": "c3d36171",
   "metadata": {},
   "outputs": [
    {
     "name": "stdout",
     "output_type": "stream",
     "text": [
      "The model's accuracy is: 0.8823529411764706\n"
     ]
    }
   ],
   "source": [
    "accuracy = logreg.score(X_test, y_test)\n",
    "print(\"The model's accuracy is:\", accuracy)"
   ]
  },
  {
   "cell_type": "code",
   "execution_count": null,
   "id": "b5ed17d3",
   "metadata": {},
   "outputs": [],
   "source": []
  }
 ],
 "metadata": {
  "kernelspec": {
   "display_name": "Python 3 (ipykernel)",
   "language": "python",
   "name": "python3"
  },
  "language_info": {
   "codemirror_mode": {
    "name": "ipython",
    "version": 3
   },
   "file_extension": ".py",
   "mimetype": "text/x-python",
   "name": "python",
   "nbconvert_exporter": "python",
   "pygments_lexer": "ipython3",
   "version": "3.9.12"
  }
 },
 "nbformat": 4,
 "nbformat_minor": 5
}
