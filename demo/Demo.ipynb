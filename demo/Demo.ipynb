{
 "cells": [
  {
   "cell_type": "code",
   "execution_count": 1,
   "id": "3da22396",
   "metadata": {},
   "outputs": [],
   "source": [
    "import pandas as pd\n",
    "from sklearn.model_selection import train_test_split\n",
    "import pickle\n",
    "import xgboost as xgb\n",
    "import joblib\n",
    "from sklearn.preprocessing import StandardScaler, LabelEncoder\n",
    "from sklearn.metrics import accuracy_score"
   ]
  },
  {
   "cell_type": "markdown",
   "id": "a2fed0da",
   "metadata": {},
   "source": [
    "## Load Data"
   ]
  },
  {
   "cell_type": "code",
   "execution_count": 2,
   "id": "0c2329dd",
   "metadata": {},
   "outputs": [],
   "source": [
    "dataset = pd.read_csv(\"Crop_recommendation.csv\")"
   ]
  },
  {
   "cell_type": "markdown",
   "id": "e4da5d03",
   "metadata": {},
   "source": [
    "## Split Training and Testing Data"
   ]
  },
  {
   "cell_type": "code",
   "execution_count": 3,
   "id": "088f2f8f",
   "metadata": {},
   "outputs": [],
   "source": [
    "dataset.drop_duplicates(inplace=True)\n",
    "\n",
    "X, y = dataset.iloc[:, :-1], dataset.iloc[:, -1]\n",
    "X_train, X_test, y_train, y_test = train_test_split(X, y, test_size=0.2)"
   ]
  },
  {
   "cell_type": "markdown",
   "id": "7d532c25",
   "metadata": {},
   "source": [
    "## Run Pickle Files of 6 Models"
   ]
  },
  {
   "cell_type": "markdown",
   "id": "98c7d547",
   "metadata": {},
   "source": [
    "##### 1. KNN"
   ]
  },
  {
   "cell_type": "code",
   "execution_count": 4,
   "id": "6b2fdcdc",
   "metadata": {},
   "outputs": [],
   "source": [
    "KNN_Pkl_Filename = \"Pickle_KNN_Model.pkl\" "
   ]
  },
  {
   "cell_type": "code",
   "execution_count": 5,
   "id": "16b51be5",
   "metadata": {},
   "outputs": [
    {
     "data": {
      "text/plain": [
       "KNeighborsClassifier(metric='manhattan', n_neighbors=7, weights='distance')"
      ]
     },
     "execution_count": 5,
     "metadata": {},
     "output_type": "execute_result"
    }
   ],
   "source": [
    "with open(KNN_Pkl_Filename, 'rb') as KNN_file:  \n",
    "    Pickled_KNN_Model = pickle.load(KNN_file)\n",
    "    \n",
    "Pickled_KNN_Model"
   ]
  },
  {
   "cell_type": "code",
   "execution_count": 6,
   "id": "f26c1938",
   "metadata": {},
   "outputs": [
    {
     "name": "stdout",
     "output_type": "stream",
     "text": [
      "Test score: 99.55 %\n"
     ]
    }
   ],
   "source": [
    "# Calculate the Score \n",
    "knn_score = Pickled_KNN_Model.score(X_test, y_test)  \n",
    "# Print the Score\n",
    "print(\"Test score: {0:.2f} %\".format(100 * knn_score))  \n",
    "\n",
    "# Predict the Labels using the reloaded Model\n",
    "Ypredict = Pickled_KNN_Model.predict(X_test)  "
   ]
  },
  {
   "cell_type": "markdown",
   "id": "04d527d0",
   "metadata": {},
   "source": [
    "##### 2. Logistics Regression"
   ]
  },
  {
   "cell_type": "code",
   "execution_count": 7,
   "id": "b50a63e8",
   "metadata": {},
   "outputs": [],
   "source": [
    "LG_Pkl_Filename = \"LR.pkl\"\n",
    "with open(LG_Pkl_Filename, 'rb') as LG_file:  \n",
    "    Pickled_LG_Model = pickle.load(LG_file)"
   ]
  },
  {
   "cell_type": "code",
   "execution_count": 8,
   "id": "314f3464",
   "metadata": {},
   "outputs": [
    {
     "name": "stdout",
     "output_type": "stream",
     "text": [
      "Test score: 96.82 %\n"
     ]
    }
   ],
   "source": [
    "# Calculate the Score \n",
    "LG_score = Pickled_LG_Model.score(X_test, y_test)  \n",
    "# Print the Score\n",
    "print(\"Test score: {0:.2f} %\".format(100 * LG_score))  "
   ]
  },
  {
   "cell_type": "markdown",
   "id": "3f473564",
   "metadata": {},
   "source": [
    "##### 3. Decision Tree"
   ]
  },
  {
   "cell_type": "code",
   "execution_count": 9,
   "id": "8d958e4e",
   "metadata": {},
   "outputs": [
    {
     "data": {
      "text/plain": [
       "DecisionTreeClassifier()"
      ]
     },
     "execution_count": 9,
     "metadata": {},
     "output_type": "execute_result"
    }
   ],
   "source": [
    "DT_Pkl_Filename = \"Pickle_DecisionTree_Model.pkl\"\n",
    "with open(DT_Pkl_Filename, 'rb') as DT_file:  \n",
    "    Pickled_DT_Model = pickle.load(DT_file)\n",
    "Pickled_DT_Model"
   ]
  },
  {
   "cell_type": "code",
   "execution_count": 10,
   "id": "2bd100a7",
   "metadata": {},
   "outputs": [
    {
     "name": "stdout",
     "output_type": "stream",
     "text": [
      "Test score: 99.09 %\n"
     ]
    }
   ],
   "source": [
    "# Calculate the Score \n",
    "DT_score = Pickled_DT_Model.score(X_test, y_test)  \n",
    "# Print the Score\n",
    "print(\"Test score: {0:.2f} %\".format(100 * DT_score))  "
   ]
  },
  {
   "cell_type": "markdown",
   "id": "b0003958",
   "metadata": {},
   "source": [
    "##### 4. Random Forest"
   ]
  },
  {
   "cell_type": "code",
   "execution_count": 11,
   "id": "a3080305",
   "metadata": {},
   "outputs": [
    {
     "data": {
      "text/plain": [
       "RandomForestClassifier(max_depth=4, random_state=0)"
      ]
     },
     "execution_count": 11,
     "metadata": {},
     "output_type": "execute_result"
    }
   ],
   "source": [
    "random_forest_Pkl_Filename = \"Pickle_random_forest_Model.pkl\"\n",
    "with open(random_forest_Pkl_Filename, 'rb') as RF_file:  \n",
    "    Pickled_RF_Model = pickle.load(RF_file)\n",
    "Pickled_RF_Model"
   ]
  },
  {
   "cell_type": "code",
   "execution_count": 12,
   "id": "65703afe",
   "metadata": {},
   "outputs": [
    {
     "name": "stdout",
     "output_type": "stream",
     "text": [
      "Test score: 95.00 %\n"
     ]
    }
   ],
   "source": [
    "# Calculate the Score \n",
    "RF_score = Pickled_RF_Model.score(X_test, y_test)  \n",
    "# Print the Score\n",
    "print(\"Test score: {0:.2f} %\".format(100 * RF_score))"
   ]
  },
  {
   "cell_type": "markdown",
   "id": "8862587c",
   "metadata": {},
   "source": [
    "##### 5. XGboost Model"
   ]
  },
  {
   "cell_type": "code",
   "execution_count": 13,
   "id": "c54b393e",
   "metadata": {},
   "outputs": [
    {
     "data": {
      "text/plain": [
       "<xgboost.core.Booster at 0x7fa8c8157370>"
      ]
     },
     "execution_count": 13,
     "metadata": {},
     "output_type": "execute_result"
    }
   ],
   "source": [
    "XGboost_Pkl_Filename = \"XGboost_model.pkl\"\n",
    "with open(XGboost_Pkl_Filename, 'rb') as file:  \n",
    "    Pickled_XGboost_Model = pickle.load(file)\n",
    "Pickled_XGboost_Model"
   ]
  },
  {
   "cell_type": "code",
   "execution_count": 14,
   "id": "dbebc9c8",
   "metadata": {},
   "outputs": [
    {
     "name": "stdout",
     "output_type": "stream",
     "text": [
      "Test score: 100.00 %\n"
     ]
    }
   ],
   "source": [
    "label_encoder = LabelEncoder()\n",
    "xgb_y_test = label_encoder.fit_transform(y_test)\n",
    "\n",
    "xgb_dtest = xgb.DMatrix(X_test)\n",
    "# Calculate the Score \n",
    "\n",
    "# Predict the Labels using the reloaded Model\n",
    "Ypredict = Pickled_XGboost_Model.predict(xgb_dtest)  \n",
    "\n",
    "# Calculate the Accuracy Score\n",
    "xgb_score = accuracy_score(xgb_y_test, Ypredict)  \n",
    "\n",
    "# Print the Score\n",
    "print(\"Test score: {0:.2f} %\".format(100 * xgb_score))\n"
   ]
  },
  {
   "cell_type": "markdown",
   "id": "d3f6b54a",
   "metadata": {},
   "source": [
    "##### 6.SVM"
   ]
  },
  {
   "cell_type": "code",
   "execution_count": 15,
   "id": "8fc61a70",
   "metadata": {},
   "outputs": [
    {
     "name": "stdout",
     "output_type": "stream",
     "text": [
      "Test score: 99.09 %\n"
     ]
    }
   ],
   "source": [
    "# Standardize the data\n",
    "sc = StandardScaler()\n",
    "X_train = sc.fit_transform(X_train)\n",
    "X_test = sc.transform(X_test)\n",
    "\n",
    "# Load the model from the joblib file\n",
    "loaded_svm_classifier = joblib.load('joblib_SVM_Model.pkl')\n",
    "\n",
    "# Calculate the test score\n",
    "SVM_score = loaded_svm_classifier.score(X_test, y_test)\n",
    "\n",
    "# Print the test score\n",
    "print(\"Test score: {0:.2f} %\".format(100 * SVM_score))"
   ]
  },
  {
   "cell_type": "markdown",
   "id": "86f47c05",
   "metadata": {},
   "source": [
    "## Performance Comparison"
   ]
  },
  {
   "cell_type": "code",
   "execution_count": 16,
   "id": "f6b1905b",
   "metadata": {},
   "outputs": [
    {
     "data": {
      "text/html": [
       "<div>\n",
       "<style scoped>\n",
       "    .dataframe tbody tr th:only-of-type {\n",
       "        vertical-align: middle;\n",
       "    }\n",
       "\n",
       "    .dataframe tbody tr th {\n",
       "        vertical-align: top;\n",
       "    }\n",
       "\n",
       "    .dataframe thead th {\n",
       "        text-align: right;\n",
       "    }\n",
       "</style>\n",
       "<table border=\"1\" class=\"dataframe\">\n",
       "  <thead>\n",
       "    <tr style=\"text-align: right;\">\n",
       "      <th></th>\n",
       "      <th>model</th>\n",
       "      <th>accuracy</th>\n",
       "    </tr>\n",
       "  </thead>\n",
       "  <tbody>\n",
       "    <tr>\n",
       "      <th>4</th>\n",
       "      <td>XGBoost</td>\n",
       "      <td>1.000000</td>\n",
       "    </tr>\n",
       "    <tr>\n",
       "      <th>0</th>\n",
       "      <td>KNN</td>\n",
       "      <td>0.995455</td>\n",
       "    </tr>\n",
       "    <tr>\n",
       "      <th>2</th>\n",
       "      <td>Decision Tree</td>\n",
       "      <td>0.990909</td>\n",
       "    </tr>\n",
       "    <tr>\n",
       "      <th>1</th>\n",
       "      <td>Logistic Regression</td>\n",
       "      <td>0.968182</td>\n",
       "    </tr>\n",
       "    <tr>\n",
       "      <th>3</th>\n",
       "      <td>Random Forest</td>\n",
       "      <td>0.950000</td>\n",
       "    </tr>\n",
       "  </tbody>\n",
       "</table>\n",
       "</div>"
      ],
      "text/plain": [
       "                 model  accuracy\n",
       "4              XGBoost  1.000000\n",
       "0                  KNN  0.995455\n",
       "2        Decision Tree  0.990909\n",
       "1  Logistic Regression  0.968182\n",
       "3        Random Forest  0.950000"
      ]
     },
     "execution_count": 16,
     "metadata": {},
     "output_type": "execute_result"
    }
   ],
   "source": [
    "performance = pd.DataFrame({'model': ['KNN', 'Logistic Regression', 'Decision Tree', 'Random Forest', 'XGBoost'],\n",
    "                   'accuracy': [knn_score, LG_score, DT_score, RF_score, xgb_score]})\n",
    "\n",
    "# sort the dataframe by the accuracy in ascending order\n",
    "performance = performance.sort_values(by='accuracy', ascending=False)\n",
    "\n",
    "performance"
   ]
  }
 ],
 "metadata": {
  "kernelspec": {
   "display_name": "Python 3 (ipykernel)",
   "language": "python",
   "name": "python3"
  },
  "language_info": {
   "codemirror_mode": {
    "name": "ipython",
    "version": 3
   },
   "file_extension": ".py",
   "mimetype": "text/x-python",
   "name": "python",
   "nbconvert_exporter": "python",
   "pygments_lexer": "ipython3",
   "version": "3.9.13"
  }
 },
 "nbformat": 4,
 "nbformat_minor": 5
}
