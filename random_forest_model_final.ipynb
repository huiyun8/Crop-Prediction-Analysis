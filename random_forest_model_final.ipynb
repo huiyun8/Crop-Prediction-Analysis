{
 "cells": [
  {
   "cell_type": "code",
   "execution_count": 1,
   "id": "562dba47",
   "metadata": {},
   "outputs": [],
   "source": [
    "import pandas as pd\n",
    "from sklearn.model_selection import train_test_split\n",
    "from sklearn.ensemble import RandomForestClassifier\n",
    "from sklearn import preprocessing\n",
    "\n",
    "from sklearn.metrics import accuracy_score, precision_score, recall_score, roc_auc_score, confusion_matrix\n",
    "\n",
    "import seaborn as sns\n",
    "import pandas as pd\n",
    "import matplotlib.pyplot as plt"
   ]
  },
  {
   "cell_type": "markdown",
   "id": "1403299b",
   "metadata": {},
   "source": [
    "# Crop_recommendation.csv"
   ]
  },
  {
   "cell_type": "code",
   "execution_count": 18,
   "id": "2643918f",
   "metadata": {},
   "outputs": [],
   "source": [
    "data = pd.read_csv(\"Crop_recommendation.csv\")"
   ]
  },
  {
   "cell_type": "code",
   "execution_count": 3,
   "id": "9e622dcc",
   "metadata": {},
   "outputs": [
    {
     "data": {
      "text/html": [
       "<div>\n",
       "<style scoped>\n",
       "    .dataframe tbody tr th:only-of-type {\n",
       "        vertical-align: middle;\n",
       "    }\n",
       "\n",
       "    .dataframe tbody tr th {\n",
       "        vertical-align: top;\n",
       "    }\n",
       "\n",
       "    .dataframe thead th {\n",
       "        text-align: right;\n",
       "    }\n",
       "</style>\n",
       "<table border=\"1\" class=\"dataframe\">\n",
       "  <thead>\n",
       "    <tr style=\"text-align: right;\">\n",
       "      <th></th>\n",
       "      <th>N</th>\n",
       "      <th>P</th>\n",
       "      <th>K</th>\n",
       "      <th>temperature</th>\n",
       "      <th>humidity</th>\n",
       "      <th>ph</th>\n",
       "      <th>rainfall</th>\n",
       "      <th>label</th>\n",
       "    </tr>\n",
       "  </thead>\n",
       "  <tbody>\n",
       "    <tr>\n",
       "      <th>0</th>\n",
       "      <td>90</td>\n",
       "      <td>42</td>\n",
       "      <td>43</td>\n",
       "      <td>20.879744</td>\n",
       "      <td>82.002744</td>\n",
       "      <td>6.502985</td>\n",
       "      <td>202.935536</td>\n",
       "      <td>rice</td>\n",
       "    </tr>\n",
       "    <tr>\n",
       "      <th>1</th>\n",
       "      <td>85</td>\n",
       "      <td>58</td>\n",
       "      <td>41</td>\n",
       "      <td>21.770462</td>\n",
       "      <td>80.319644</td>\n",
       "      <td>7.038096</td>\n",
       "      <td>226.655537</td>\n",
       "      <td>rice</td>\n",
       "    </tr>\n",
       "    <tr>\n",
       "      <th>2</th>\n",
       "      <td>60</td>\n",
       "      <td>55</td>\n",
       "      <td>44</td>\n",
       "      <td>23.004459</td>\n",
       "      <td>82.320763</td>\n",
       "      <td>7.840207</td>\n",
       "      <td>263.964248</td>\n",
       "      <td>rice</td>\n",
       "    </tr>\n",
       "    <tr>\n",
       "      <th>3</th>\n",
       "      <td>74</td>\n",
       "      <td>35</td>\n",
       "      <td>40</td>\n",
       "      <td>26.491096</td>\n",
       "      <td>80.158363</td>\n",
       "      <td>6.980401</td>\n",
       "      <td>242.864034</td>\n",
       "      <td>rice</td>\n",
       "    </tr>\n",
       "    <tr>\n",
       "      <th>4</th>\n",
       "      <td>78</td>\n",
       "      <td>42</td>\n",
       "      <td>42</td>\n",
       "      <td>20.130175</td>\n",
       "      <td>81.604873</td>\n",
       "      <td>7.628473</td>\n",
       "      <td>262.717340</td>\n",
       "      <td>rice</td>\n",
       "    </tr>\n",
       "    <tr>\n",
       "      <th>...</th>\n",
       "      <td>...</td>\n",
       "      <td>...</td>\n",
       "      <td>...</td>\n",
       "      <td>...</td>\n",
       "      <td>...</td>\n",
       "      <td>...</td>\n",
       "      <td>...</td>\n",
       "      <td>...</td>\n",
       "    </tr>\n",
       "    <tr>\n",
       "      <th>2195</th>\n",
       "      <td>107</td>\n",
       "      <td>34</td>\n",
       "      <td>32</td>\n",
       "      <td>26.774637</td>\n",
       "      <td>66.413269</td>\n",
       "      <td>6.780064</td>\n",
       "      <td>177.774507</td>\n",
       "      <td>coffee</td>\n",
       "    </tr>\n",
       "    <tr>\n",
       "      <th>2196</th>\n",
       "      <td>99</td>\n",
       "      <td>15</td>\n",
       "      <td>27</td>\n",
       "      <td>27.417112</td>\n",
       "      <td>56.636362</td>\n",
       "      <td>6.086922</td>\n",
       "      <td>127.924610</td>\n",
       "      <td>coffee</td>\n",
       "    </tr>\n",
       "    <tr>\n",
       "      <th>2197</th>\n",
       "      <td>118</td>\n",
       "      <td>33</td>\n",
       "      <td>30</td>\n",
       "      <td>24.131797</td>\n",
       "      <td>67.225123</td>\n",
       "      <td>6.362608</td>\n",
       "      <td>173.322839</td>\n",
       "      <td>coffee</td>\n",
       "    </tr>\n",
       "    <tr>\n",
       "      <th>2198</th>\n",
       "      <td>117</td>\n",
       "      <td>32</td>\n",
       "      <td>34</td>\n",
       "      <td>26.272418</td>\n",
       "      <td>52.127394</td>\n",
       "      <td>6.758793</td>\n",
       "      <td>127.175293</td>\n",
       "      <td>coffee</td>\n",
       "    </tr>\n",
       "    <tr>\n",
       "      <th>2199</th>\n",
       "      <td>104</td>\n",
       "      <td>18</td>\n",
       "      <td>30</td>\n",
       "      <td>23.603016</td>\n",
       "      <td>60.396475</td>\n",
       "      <td>6.779833</td>\n",
       "      <td>140.937041</td>\n",
       "      <td>coffee</td>\n",
       "    </tr>\n",
       "  </tbody>\n",
       "</table>\n",
       "<p>2200 rows × 8 columns</p>\n",
       "</div>"
      ],
      "text/plain": [
       "        N   P   K  temperature   humidity        ph    rainfall   label\n",
       "0      90  42  43    20.879744  82.002744  6.502985  202.935536    rice\n",
       "1      85  58  41    21.770462  80.319644  7.038096  226.655537    rice\n",
       "2      60  55  44    23.004459  82.320763  7.840207  263.964248    rice\n",
       "3      74  35  40    26.491096  80.158363  6.980401  242.864034    rice\n",
       "4      78  42  42    20.130175  81.604873  7.628473  262.717340    rice\n",
       "...   ...  ..  ..          ...        ...       ...         ...     ...\n",
       "2195  107  34  32    26.774637  66.413269  6.780064  177.774507  coffee\n",
       "2196   99  15  27    27.417112  56.636362  6.086922  127.924610  coffee\n",
       "2197  118  33  30    24.131797  67.225123  6.362608  173.322839  coffee\n",
       "2198  117  32  34    26.272418  52.127394  6.758793  127.175293  coffee\n",
       "2199  104  18  30    23.603016  60.396475  6.779833  140.937041  coffee\n",
       "\n",
       "[2200 rows x 8 columns]"
      ]
     },
     "execution_count": 3,
     "metadata": {},
     "output_type": "execute_result"
    }
   ],
   "source": [
    "data"
   ]
  },
  {
   "cell_type": "code",
   "execution_count": 4,
   "id": "3b8c32a1",
   "metadata": {},
   "outputs": [
    {
     "data": {
      "text/plain": [
       "(2200, 8)"
      ]
     },
     "execution_count": 4,
     "metadata": {},
     "output_type": "execute_result"
    }
   ],
   "source": [
    "data.shape"
   ]
  },
  {
   "cell_type": "code",
   "execution_count": 5,
   "id": "3e52d522",
   "metadata": {},
   "outputs": [],
   "source": [
    "X = data.iloc[:,:7]\n",
    "y = data.iloc[:,7]"
   ]
  },
  {
   "cell_type": "code",
   "execution_count": 6,
   "id": "8b925703",
   "metadata": {},
   "outputs": [
    {
     "data": {
      "text/plain": [
       "0         rice\n",
       "1         rice\n",
       "2         rice\n",
       "3         rice\n",
       "4         rice\n",
       "         ...  \n",
       "2195    coffee\n",
       "2196    coffee\n",
       "2197    coffee\n",
       "2198    coffee\n",
       "2199    coffee\n",
       "Name: label, Length: 2200, dtype: object"
      ]
     },
     "execution_count": 6,
     "metadata": {},
     "output_type": "execute_result"
    }
   ],
   "source": [
    "y"
   ]
  },
  {
   "cell_type": "code",
   "execution_count": 7,
   "id": "5a151395",
   "metadata": {},
   "outputs": [],
   "source": [
    "# train test split\n",
    "X_train, X_test, y_train, y_test = train_test_split(\n",
    "      X, y, test_size=0.2, random_state=1, stratify = y)"
   ]
  },
  {
   "cell_type": "code",
   "execution_count": 8,
   "id": "5634e1ad",
   "metadata": {},
   "outputs": [
    {
     "data": {
      "text/plain": [
       "RandomForestClassifier(max_depth=4, random_state=0)"
      ]
     },
     "execution_count": 8,
     "metadata": {},
     "output_type": "execute_result"
    }
   ],
   "source": [
    "clf = RandomForestClassifier(max_depth=4, random_state=0)\n",
    "clf.fit(X_train, y_train)"
   ]
  },
  {
   "cell_type": "code",
   "execution_count": 9,
   "id": "0de649e2",
   "metadata": {},
   "outputs": [],
   "source": [
    "y_pred = clf.predict(X_test)"
   ]
  },
  {
   "cell_type": "code",
   "execution_count": 10,
   "id": "9a180aed",
   "metadata": {},
   "outputs": [
    {
     "name": "stdout",
     "output_type": "stream",
     "text": [
      "accuracy_score : 0.9477272727272728\n",
      "precision_score : 0.9477272727272728\n",
      "precision_score for each class: [1.         1.         0.71428571 1.         1.         1.\n",
      " 0.95238095 1.         1.         1.         0.86956522 1.\n",
      " 1.         1.         1.         1.         1.         1.\n",
      " 1.         1.         0.66666667 0.95238095]\n",
      "recall_score : 0.9477272727272728\n",
      "recall_score for each class: [1.   1.   1.   1.   1.   1.   1.   1.   0.5  1.   1.   0.95 1.   0.45\n",
      " 1.   1.   1.   0.95 1.   1.   1.   1.  ]\n"
     ]
    }
   ],
   "source": [
    "accuracy = accuracy_score(y_test, y_pred)\n",
    "\n",
    "precision = precision_score(y_test, y_pred, average=\"micro\")\n",
    "precision_each_class = precision_score(y_test, y_pred, average=None)\n",
    "\n",
    "recall = recall_score(y_test, y_pred, average=\"micro\")\n",
    "recall_each_class = recall_score(y_test, y_pred, average=None)\n",
    "\n",
    "print(\"accuracy_score : \" + str(accuracy))\n",
    "print(\"precision_score : \" + str(precision))\n",
    "print(\"precision_score for each class: \" + str(precision_each_class))\n",
    "print(\"recall_score : \" + str(recall))\n",
    "print(\"recall_score for each class: \" + str(recall_each_class))"
   ]
  },
  {
   "cell_type": "code",
   "execution_count": 11,
   "id": "a2b3ef62",
   "metadata": {},
   "outputs": [],
   "source": [
    "roc_auc = roc_auc_score(y_test, clf.predict_proba(X_test), multi_class = \"ovo\")"
   ]
  },
  {
   "cell_type": "code",
   "execution_count": 12,
   "id": "7a662609",
   "metadata": {},
   "outputs": [
    {
     "data": {
      "text/plain": [
       "0.9987878787878788"
      ]
     },
     "execution_count": 12,
     "metadata": {},
     "output_type": "execute_result"
    }
   ],
   "source": [
    "roc_auc"
   ]
  },
  {
   "cell_type": "code",
   "execution_count": 13,
   "id": "6d614b87",
   "metadata": {},
   "outputs": [],
   "source": [
    "from sklearn.metrics import confusion_matrix, classification_report"
   ]
  },
  {
   "cell_type": "code",
   "execution_count": 14,
   "id": "6bedc943",
   "metadata": {},
   "outputs": [
    {
     "data": {
      "image/png": "[encoded data removed]",
      "text/plain": [
       "<Figure size 1440x1080 with 2 Axes>"
      ]
     },
     "metadata": {
      "needs_background": "light"
     },
     "output_type": "display_data"
    }
   ],
   "source": [
    "# Confusion matrix for test data\n",
    "cm_test = confusion_matrix(y_test, y_pred)\n",
    "f, ax = plt.subplots(figsize=(20,15))\n",
    "sns.heatmap(cm_test, annot=True, linewidth=0.5, fmt=\".0f\",cmap='magma', ax = ax)\n",
    "plt.xlabel('Predicted', fontsize=20)\n",
    "plt.ylabel('Actual', fontsize=20)\n",
    "plt.title('Predicted vs actual', fontsize=20)\n",
    "plt.show()"
   ]
  },
  {
   "cell_type": "code",
   "execution_count": 15,
   "id": "51e6b7dc",
   "metadata": {},
   "outputs": [
    {
     "name": "stdout",
     "output_type": "stream",
     "text": [
      "Classification Report:\n",
      "               precision    recall  f1-score   support\n",
      "\n",
      "       apple       1.00      1.00      1.00        20\n",
      "      banana       1.00      1.00      1.00        20\n",
      "   blackgram       0.71      1.00      0.83        20\n",
      "    chickpea       1.00      1.00      1.00        20\n",
      "     coconut       1.00      1.00      1.00        20\n",
      "      coffee       1.00      1.00      1.00        20\n",
      "      cotton       0.95      1.00      0.98        20\n",
      "      grapes       1.00      1.00      1.00        20\n",
      "        jute       1.00      0.50      0.67        20\n",
      " kidneybeans       1.00      1.00      1.00        20\n",
      "      lentil       0.87      1.00      0.93        20\n",
      "       maize       1.00      0.95      0.97        20\n",
      "       mango       1.00      1.00      1.00        20\n",
      "   mothbeans       1.00      0.45      0.62        20\n",
      "    mungbean       1.00      1.00      1.00        20\n",
      "   muskmelon       1.00      1.00      1.00        20\n",
      "      orange       1.00      1.00      1.00        20\n",
      "      papaya       1.00      0.95      0.97        20\n",
      "  pigeonpeas       1.00      1.00      1.00        20\n",
      " pomegranate       1.00      1.00      1.00        20\n",
      "        rice       0.67      1.00      0.80        20\n",
      "  watermelon       0.95      1.00      0.98        20\n",
      "\n",
      "    accuracy                           0.95       440\n",
      "   macro avg       0.96      0.95      0.94       440\n",
      "weighted avg       0.96      0.95      0.94       440\n",
      "\n"
     ]
    }
   ],
   "source": [
    "# Classification report for test data\n",
    "cr_test = classification_report(y_test, y_pred)\n",
    "print(\"Classification Report:\\n\", cr_test)"
   ]
  },
  {
   "cell_type": "markdown",
   "id": "86709707",
   "metadata": {},
   "source": [
    "## Generate pickle file"
   ]
  },
  {
   "cell_type": "code",
   "execution_count": 16,
   "id": "230e308a",
   "metadata": {},
   "outputs": [
    {
     "data": {
      "text/plain": [
       "RandomForestClassifier(max_depth=4, random_state=0)"
      ]
     },
     "execution_count": 16,
     "metadata": {},
     "output_type": "execute_result"
    }
   ],
   "source": [
    "import pickle\n",
    "\n",
    "# Save the Model to file in the current working directory\n",
    "\n",
    "Pkl_Filename = \"Pickle_random_forest_Model.pkl\"  \n",
    "\n",
    "with open(Pkl_Filename, 'wb') as file:  \n",
    "    pickle.dump(clf, file)\n",
    "    \n",
    "# Load the Model back from file\n",
    "with open(Pkl_Filename, 'rb') as file:  \n",
    "    pickled_random_forest_model = pickle.load(file)\n",
    "\n",
    "pickled_random_forest_model"
   ]
  },
  {
   "cell_type": "code",
   "execution_count": 17,
   "id": "45330a25",
   "metadata": {},
   "outputs": [
    {
     "name": "stdout",
     "output_type": "stream",
     "text": [
      "Test score: 94.77 %\n"
     ]
    },
    {
     "data": {
      "text/plain": [
       "array(['rice', 'pomegranate', 'cotton', 'pomegranate', 'grapes',\n",
       "       'kidneybeans', 'muskmelon', 'apple', 'rice', 'coconut', 'coconut',\n",
       "       'pomegranate', 'muskmelon', 'chickpea', 'mothbeans', 'mungbean',\n",
       "       'rice', 'mungbean', 'papaya', 'rice', 'blackgram', 'mango',\n",
       "       'mungbean', 'pomegranate', 'banana', 'coconut', 'blackgram',\n",
       "       'pigeonpeas', 'grapes', 'papaya', 'jute', 'chickpea', 'pigeonpeas',\n",
       "       'pigeonpeas', 'pigeonpeas', 'coconut', 'apple', 'grapes',\n",
       "       'watermelon', 'orange', 'apple', 'papaya', 'pomegranate', 'orange',\n",
       "       'cotton', 'muskmelon', 'watermelon', 'blackgram', 'mango',\n",
       "       'kidneybeans', 'cotton', 'grapes', 'coconut', 'chickpea', 'cotton',\n",
       "       'mango', 'papaya', 'coconut', 'banana', 'maize', 'jute',\n",
       "       'pomegranate', 'chickpea', 'coconut', 'mothbeans', 'apple',\n",
       "       'cotton', 'lentil', 'lentil', 'blackgram', 'apple', 'papaya',\n",
       "       'lentil', 'pigeonpeas', 'mungbean', 'mungbean', 'maize', 'apple',\n",
       "       'cotton', 'watermelon', 'cotton', 'chickpea', 'muskmelon',\n",
       "       'muskmelon', 'lentil', 'rice', 'pigeonpeas', 'pigeonpeas', 'maize',\n",
       "       'apple', 'coffee', 'chickpea', 'lentil', 'lentil', 'lentil',\n",
       "       'blackgram', 'rice', 'watermelon', 'blackgram', 'coconut',\n",
       "       'grapes', 'chickpea', 'mango', 'grapes', 'rice', 'watermelon',\n",
       "       'cotton', 'rice', 'rice', 'orange', 'rice', 'chickpea', 'mungbean',\n",
       "       'mungbean', 'mango', 'chickpea', 'grapes', 'blackgram',\n",
       "       'pigeonpeas', 'mungbean', 'coconut', 'mango', 'mungbean', 'grapes',\n",
       "       'orange', 'kidneybeans', 'coffee', 'watermelon', 'jute',\n",
       "       'blackgram', 'jute', 'orange', 'blackgram', 'orange', 'coffee',\n",
       "       'banana', 'papaya', 'mothbeans', 'apple', 'blackgram', 'banana',\n",
       "       'grapes', 'blackgram', 'mango', 'coconut', 'kidneybeans',\n",
       "       'kidneybeans', 'pigeonpeas', 'apple', 'muskmelon', 'muskmelon',\n",
       "       'pigeonpeas', 'mango', 'jute', 'papaya', 'papaya', 'cotton',\n",
       "       'coconut', 'lentil', 'rice', 'mungbean', 'orange', 'maize',\n",
       "       'banana', 'lentil', 'blackgram', 'maize', 'jute', 'papaya',\n",
       "       'banana', 'banana', 'watermelon', 'banana', 'orange', 'coconut',\n",
       "       'papaya', 'cotton', 'maize', 'maize', 'muskmelon', 'lentil',\n",
       "       'mango', 'lentil', 'maize', 'coconut', 'banana', 'blackgram',\n",
       "       'muskmelon', 'rice', 'rice', 'watermelon', 'blackgram', 'coconut',\n",
       "       'kidneybeans', 'papaya', 'chickpea', 'lentil', 'pomegranate',\n",
       "       'watermelon', 'banana', 'watermelon', 'blackgram', 'grapes',\n",
       "       'chickpea', 'cotton', 'lentil', 'cotton', 'cotton', 'coffee',\n",
       "       'pomegranate', 'grapes', 'pomegranate', 'mango', 'mango',\n",
       "       'pomegranate', 'blackgram', 'orange', 'rice', 'maize', 'orange',\n",
       "       'orange', 'kidneybeans', 'chickpea', 'pomegranate', 'chickpea',\n",
       "       'mungbean', 'papaya', 'watermelon', 'rice', 'apple', 'blackgram',\n",
       "       'pomegranate', 'muskmelon', 'maize', 'watermelon', 'papaya',\n",
       "       'cotton', 'banana', 'rice', 'grapes', 'cotton', 'muskmelon',\n",
       "       'chickpea', 'apple', 'apple', 'mothbeans', 'grapes', 'watermelon',\n",
       "       'apple', 'chickpea', 'coffee', 'coffee', 'watermelon', 'muskmelon',\n",
       "       'kidneybeans', 'rice', 'banana', 'mango', 'grapes', 'coffee',\n",
       "       'cotton', 'orange', 'lentil', 'chickpea', 'pigeonpeas', 'apple',\n",
       "       'muskmelon', 'coffee', 'orange', 'mothbeans', 'mungbean',\n",
       "       'pigeonpeas', 'banana', 'rice', 'pigeonpeas', 'grapes', 'coconut',\n",
       "       'watermelon', 'rice', 'kidneybeans', 'coffee', 'mungbean',\n",
       "       'mungbean', 'rice', 'rice', 'maize', 'pigeonpeas', 'mungbean',\n",
       "       'blackgram', 'banana', 'maize', 'blackgram', 'mothbeans', 'rice',\n",
       "       'apple', 'coffee', 'lentil', 'cotton', 'pomegranate', 'jute',\n",
       "       'lentil', 'grapes', 'pomegranate', 'mango', 'chickpea',\n",
       "       'blackgram', 'grapes', 'kidneybeans', 'kidneybeans', 'mango',\n",
       "       'rice', 'muskmelon', 'banana', 'coffee', 'pomegranate', 'coffee',\n",
       "       'apple', 'coconut', 'coffee', 'mothbeans', 'coconut', 'mango',\n",
       "       'rice', 'chickpea', 'mothbeans', 'maize', 'muskmelon',\n",
       "       'watermelon', 'lentil', 'coconut', 'lentil', 'pomegranate',\n",
       "       'papaya', 'jute', 'cotton', 'kidneybeans', 'kidneybeans', 'lentil',\n",
       "       'kidneybeans', 'grapes', 'maize', 'chickpea', 'cotton',\n",
       "       'pomegranate', 'apple', 'pomegranate', 'cotton', 'watermelon',\n",
       "       'blackgram', 'coffee', 'mungbean', 'banana', 'kidneybeans',\n",
       "       'muskmelon', 'rice', 'pomegranate', 'banana', 'coffee', 'maize',\n",
       "       'orange', 'cotton', 'banana', 'muskmelon', 'apple', 'orange',\n",
       "       'maize', 'lentil', 'mango', 'pigeonpeas', 'orange', 'papaya',\n",
       "       'mungbean', 'blackgram', 'papaya', 'grapes', 'mango', 'coffee',\n",
       "       'coconut', 'muskmelon', 'pigeonpeas', 'banana', 'blackgram',\n",
       "       'mungbean', 'rice', 'mothbeans', 'papaya', 'pigeonpeas',\n",
       "       'watermelon', 'muskmelon', 'watermelon', 'kidneybeans', 'maize',\n",
       "       'blackgram', 'banana', 'apple', 'pomegranate', 'kidneybeans',\n",
       "       'pigeonpeas', 'watermelon', 'watermelon', 'mango', 'coconut',\n",
       "       'kidneybeans', 'muskmelon', 'pigeonpeas', 'coffee', 'blackgram',\n",
       "       'jute', 'apple', 'coffee', 'mango', 'orange', 'pigeonpeas',\n",
       "       'coffee', 'rice', 'mungbean', 'rice', 'grapes', 'jute',\n",
       "       'blackgram', 'lentil', 'maize', 'rice', 'orange', 'blackgram',\n",
       "       'papaya', 'maize', 'mango', 'kidneybeans', 'orange', 'lentil',\n",
       "       'coffee', 'blackgram', 'rice', 'orange', 'papaya', 'chickpea',\n",
       "       'kidneybeans', 'lentil', 'mungbean'], dtype=object)"
      ]
     },
     "execution_count": 17,
     "metadata": {},
     "output_type": "execute_result"
    }
   ],
   "source": [
    "# Use the Reloaded Model to \n",
    "# Calculate the accuracy score and predict target values\n",
    "\n",
    "# Calculate the Score \n",
    "score = pickled_random_forest_model.score(X_test, y_test)  \n",
    "# Print the Score\n",
    "print(\"Test score: {0:.2f} %\".format(100 * score))  \n",
    "\n",
    "# Predict the Labels using the reloaded Model\n",
    "y_prd = pickled_random_forest_model.predict(X_test)  \n",
    "\n",
    "y_prd"
   ]
  },
  {
   "cell_type": "code",
   "execution_count": null,
   "id": "4b125a49",
   "metadata": {},
   "outputs": [],
   "source": []
  },
  {
   "cell_type": "code",
   "execution_count": null,
   "id": "fce492da-1d51-403e-9350-8c0606e01487",
   "metadata": {},
   "outputs": [],
   "source": []
  }
 ],
 "metadata": {
  "kernelspec": {
   "display_name": "Python 3 (ipykernel)",
   "language": "python",
   "name": "python3"
  },
  "language_info": {
   "codemirror_mode": {
    "name": "ipython",
    "version": 3
   },
   "file_extension": ".py",
   "mimetype": "text/x-python",
   "name": "python",
   "nbconvert_exporter": "python",
   "pygments_lexer": "ipython3",
   "version": "3.9.12"
  }
 },
 "nbformat": 4,
 "nbformat_minor": 5
}
