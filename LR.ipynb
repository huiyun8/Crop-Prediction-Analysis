{
 "cells": [
  {
   "cell_type": "code",
   "execution_count": 1,
   "id": "a17cf311",
   "metadata": {},
   "outputs": [],
   "source": [
    "import pandas as pd\n",
    "\n",
    "df = pd.read_csv('/Users/pauviramontes/Downloads/Crop_recommendation 2.csv')"
   ]
  },
  {
   "cell_type": "code",
   "execution_count": 2,
   "id": "83927d13",
   "metadata": {},
   "outputs": [
    {
     "data": {
      "text/html": [
       "<div>\n",
       "<style scoped>\n",
       "    .dataframe tbody tr th:only-of-type {\n",
       "        vertical-align: middle;\n",
       "    }\n",
       "\n",
       "    .dataframe tbody tr th {\n",
       "        vertical-align: top;\n",
       "    }\n",
       "\n",
       "    .dataframe thead th {\n",
       "        text-align: right;\n",
       "    }\n",
       "</style>\n",
       "<table border=\"1\" class=\"dataframe\">\n",
       "  <thead>\n",
       "    <tr style=\"text-align: right;\">\n",
       "      <th></th>\n",
       "      <th>N</th>\n",
       "      <th>P</th>\n",
       "      <th>K</th>\n",
       "      <th>temperature</th>\n",
       "      <th>humidity</th>\n",
       "      <th>ph</th>\n",
       "      <th>rainfall</th>\n",
       "      <th>label</th>\n",
       "    </tr>\n",
       "  </thead>\n",
       "  <tbody>\n",
       "    <tr>\n",
       "      <th>0</th>\n",
       "      <td>90</td>\n",
       "      <td>42</td>\n",
       "      <td>43</td>\n",
       "      <td>20.879744</td>\n",
       "      <td>82.002744</td>\n",
       "      <td>6.502985</td>\n",
       "      <td>202.935536</td>\n",
       "      <td>rice</td>\n",
       "    </tr>\n",
       "    <tr>\n",
       "      <th>1</th>\n",
       "      <td>85</td>\n",
       "      <td>58</td>\n",
       "      <td>41</td>\n",
       "      <td>21.770462</td>\n",
       "      <td>80.319644</td>\n",
       "      <td>7.038096</td>\n",
       "      <td>226.655537</td>\n",
       "      <td>rice</td>\n",
       "    </tr>\n",
       "    <tr>\n",
       "      <th>2</th>\n",
       "      <td>60</td>\n",
       "      <td>55</td>\n",
       "      <td>44</td>\n",
       "      <td>23.004459</td>\n",
       "      <td>82.320763</td>\n",
       "      <td>7.840207</td>\n",
       "      <td>263.964248</td>\n",
       "      <td>rice</td>\n",
       "    </tr>\n",
       "    <tr>\n",
       "      <th>3</th>\n",
       "      <td>74</td>\n",
       "      <td>35</td>\n",
       "      <td>40</td>\n",
       "      <td>26.491096</td>\n",
       "      <td>80.158363</td>\n",
       "      <td>6.980401</td>\n",
       "      <td>242.864034</td>\n",
       "      <td>rice</td>\n",
       "    </tr>\n",
       "    <tr>\n",
       "      <th>4</th>\n",
       "      <td>78</td>\n",
       "      <td>42</td>\n",
       "      <td>42</td>\n",
       "      <td>20.130175</td>\n",
       "      <td>81.604873</td>\n",
       "      <td>7.628473</td>\n",
       "      <td>262.717340</td>\n",
       "      <td>rice</td>\n",
       "    </tr>\n",
       "    <tr>\n",
       "      <th>5</th>\n",
       "      <td>69</td>\n",
       "      <td>37</td>\n",
       "      <td>42</td>\n",
       "      <td>23.058049</td>\n",
       "      <td>83.370118</td>\n",
       "      <td>7.073454</td>\n",
       "      <td>251.055000</td>\n",
       "      <td>rice</td>\n",
       "    </tr>\n",
       "    <tr>\n",
       "      <th>6</th>\n",
       "      <td>69</td>\n",
       "      <td>55</td>\n",
       "      <td>38</td>\n",
       "      <td>22.708838</td>\n",
       "      <td>82.639414</td>\n",
       "      <td>5.700806</td>\n",
       "      <td>271.324860</td>\n",
       "      <td>rice</td>\n",
       "    </tr>\n",
       "    <tr>\n",
       "      <th>7</th>\n",
       "      <td>94</td>\n",
       "      <td>53</td>\n",
       "      <td>40</td>\n",
       "      <td>20.277744</td>\n",
       "      <td>82.894086</td>\n",
       "      <td>5.718627</td>\n",
       "      <td>241.974195</td>\n",
       "      <td>rice</td>\n",
       "    </tr>\n",
       "    <tr>\n",
       "      <th>8</th>\n",
       "      <td>89</td>\n",
       "      <td>54</td>\n",
       "      <td>38</td>\n",
       "      <td>24.515881</td>\n",
       "      <td>83.535216</td>\n",
       "      <td>6.685346</td>\n",
       "      <td>230.446236</td>\n",
       "      <td>rice</td>\n",
       "    </tr>\n",
       "    <tr>\n",
       "      <th>9</th>\n",
       "      <td>68</td>\n",
       "      <td>58</td>\n",
       "      <td>38</td>\n",
       "      <td>23.223974</td>\n",
       "      <td>83.033227</td>\n",
       "      <td>6.336254</td>\n",
       "      <td>221.209196</td>\n",
       "      <td>rice</td>\n",
       "    </tr>\n",
       "  </tbody>\n",
       "</table>\n",
       "</div>"
      ],
      "text/plain": [
       "    N   P   K  temperature   humidity        ph    rainfall label\n",
       "0  90  42  43    20.879744  82.002744  6.502985  202.935536  rice\n",
       "1  85  58  41    21.770462  80.319644  7.038096  226.655537  rice\n",
       "2  60  55  44    23.004459  82.320763  7.840207  263.964248  rice\n",
       "3  74  35  40    26.491096  80.158363  6.980401  242.864034  rice\n",
       "4  78  42  42    20.130175  81.604873  7.628473  262.717340  rice\n",
       "5  69  37  42    23.058049  83.370118  7.073454  251.055000  rice\n",
       "6  69  55  38    22.708838  82.639414  5.700806  271.324860  rice\n",
       "7  94  53  40    20.277744  82.894086  5.718627  241.974195  rice\n",
       "8  89  54  38    24.515881  83.535216  6.685346  230.446236  rice\n",
       "9  68  58  38    23.223974  83.033227  6.336254  221.209196  rice"
      ]
     },
     "execution_count": 2,
     "metadata": {},
     "output_type": "execute_result"
    }
   ],
   "source": [
    "df.head(10)"
   ]
  },
  {
   "cell_type": "code",
   "execution_count": 3,
   "id": "537ae4ce",
   "metadata": {},
   "outputs": [],
   "source": [
    "df['label'] = df['label'].astype(str)"
   ]
  },
  {
   "cell_type": "code",
   "execution_count": 4,
   "id": "d203fea3",
   "metadata": {},
   "outputs": [
    {
     "data": {
      "text/plain": [
       "rice           100\n",
       "maize          100\n",
       "jute           100\n",
       "cotton         100\n",
       "coconut        100\n",
       "papaya         100\n",
       "orange         100\n",
       "apple          100\n",
       "muskmelon      100\n",
       "watermelon     100\n",
       "grapes         100\n",
       "mango          100\n",
       "banana         100\n",
       "pomegranate    100\n",
       "lentil         100\n",
       "blackgram      100\n",
       "mungbean       100\n",
       "mothbeans      100\n",
       "pigeonpeas     100\n",
       "kidneybeans    100\n",
       "chickpea       100\n",
       "coffee         100\n",
       "Name: label, dtype: int64"
      ]
     },
     "execution_count": 4,
     "metadata": {},
     "output_type": "execute_result"
    }
   ],
   "source": [
    "df['label'].value_counts()"
   ]
  },
  {
   "cell_type": "code",
   "execution_count": 5,
   "id": "52ea801c",
   "metadata": {},
   "outputs": [
    {
     "data": {
      "text/plain": [
       "22"
      ]
     },
     "execution_count": 5,
     "metadata": {},
     "output_type": "execute_result"
    }
   ],
   "source": [
    "df['label'].nunique()"
   ]
  },
  {
   "cell_type": "code",
   "execution_count": 6,
   "id": "678c25af",
   "metadata": {},
   "outputs": [],
   "source": [
    "df['label'] = df['label'].str.strip()"
   ]
  },
  {
   "cell_type": "code",
   "execution_count": 7,
   "id": "1d6aa16f",
   "metadata": {},
   "outputs": [
    {
     "name": "stdout",
     "output_type": "stream",
     "text": [
      "Unique values in target variable: ['rice' 'maize' 'chickpea' 'kidneybeans' 'pigeonpeas' 'mothbeans'\n",
      " 'mungbean' 'blackgram' 'lentil' 'pomegranate' 'banana' 'mango' 'grapes'\n",
      " 'watermelon' 'muskmelon' 'apple' 'orange' 'papaya' 'coconut' 'cotton'\n",
      " 'jute' 'coffee']\n",
      "Number of classes: 22\n",
      "rice           100\n",
      "maize          100\n",
      "jute           100\n",
      "cotton         100\n",
      "coconut        100\n",
      "papaya         100\n",
      "orange         100\n",
      "apple          100\n",
      "muskmelon      100\n",
      "watermelon     100\n",
      "grapes         100\n",
      "mango          100\n",
      "banana         100\n",
      "pomegranate    100\n",
      "lentil         100\n",
      "blackgram      100\n",
      "mungbean       100\n",
      "mothbeans      100\n",
      "pigeonpeas     100\n",
      "kidneybeans    100\n",
      "chickpea       100\n",
      "coffee         100\n",
      "Name: label, dtype: int64\n"
     ]
    }
   ],
   "source": [
    "df['label'] = df['label'].astype(str).str.lower()\n",
    "\n",
    "\n",
    "# Check number of unique classes in target variable\n",
    "print(\"Unique values in target variable:\", df['label'].unique())\n",
    "print(\"Number of classes:\", len(df['label'].unique()))\n",
    "\n",
    "# Check class distribution\n",
    "print(df['label'].value_counts())"
   ]
  },
  {
   "cell_type": "code",
   "execution_count": 8,
   "id": "f2f88f3a",
   "metadata": {},
   "outputs": [],
   "source": [
    "X = df[['N', 'P', 'K', 'temperature', 'ph', 'rainfall']]"
   ]
  },
  {
   "cell_type": "code",
   "execution_count": 9,
   "id": "c800d0f7",
   "metadata": {},
   "outputs": [],
   "source": [
    "y = df['label']"
   ]
  },
  {
   "cell_type": "code",
   "execution_count": 10,
   "id": "d01d7032",
   "metadata": {},
   "outputs": [],
   "source": [
    "from sklearn.model_selection import train_test_split\n",
    "\n",
    "X_train, X_test, y_train, y_test = train_test_split(X, y, test_size=0.2, random_state=42)"
   ]
  },
  {
   "cell_type": "code",
   "execution_count": 11,
   "id": "b010dedc",
   "metadata": {},
   "outputs": [
    {
     "name": "stderr",
     "output_type": "stream",
     "text": [
      "/Users/pauviramontes/opt/anaconda3/lib/python3.9/site-packages/sklearn/linear_model/_logistic.py:814: ConvergenceWarning: lbfgs failed to converge (status=1):\n",
      "STOP: TOTAL NO. of ITERATIONS REACHED LIMIT.\n",
      "\n",
      "Increase the number of iterations (max_iter) or scale the data as shown in:\n",
      "    https://scikit-learn.org/stable/modules/preprocessing.html\n",
      "Please also refer to the documentation for alternative solver options:\n",
      "    https://scikit-learn.org/stable/modules/linear_model.html#logistic-regression\n",
      "  n_iter_i = _check_optimize_result(\n"
     ]
    },
    {
     "data": {
      "text/plain": [
       "LogisticRegression()"
      ]
     },
     "execution_count": 11,
     "metadata": {},
     "output_type": "execute_result"
    }
   ],
   "source": [
    "from sklearn.linear_model import LogisticRegression\n",
    "\n",
    "logreg = LogisticRegression()\n",
    "logreg.fit(X_train, y_train)"
   ]
  },
  {
   "cell_type": "code",
   "execution_count": 12,
   "id": "b7ef5dae",
   "metadata": {},
   "outputs": [
    {
     "name": "stdout",
     "output_type": "stream",
     "text": [
      "Unique values in target variable: ['apple' 'banana' 'blackgram' 'chickpea' 'coconut' 'coffee' 'cotton'\n",
      " 'grapes' 'jute' 'kidneybeans' 'lentil' 'maize' 'mango' 'mothbeans'\n",
      " 'mungbean' 'muskmelon' 'orange' 'papaya' 'pigeonpeas' 'pomegranate'\n",
      " 'rice' 'watermelon']\n",
      "Number of classes: 22\n"
     ]
    }
   ],
   "source": [
    "import numpy as np\n",
    "\n",
    "unique_values = np.unique(df['label'])\n",
    "num_classes = len(unique_values)\n",
    "\n",
    "print(\"Unique values in target variable:\", unique_values)\n",
    "print(\"Number of classes:\", num_classes)\n"
   ]
  },
  {
   "cell_type": "code",
   "execution_count": 13,
   "id": "62dd7585",
   "metadata": {},
   "outputs": [],
   "source": [
    "y_pred = logreg.predict(X_test)"
   ]
  },
  {
   "cell_type": "code",
   "execution_count": 14,
   "id": "b1707f5d",
   "metadata": {},
   "outputs": [
    {
     "name": "stdout",
     "output_type": "stream",
     "text": [
      "['muskmelon' 'watermelon' 'papaya' 'papaya' 'apple' 'mango' 'apple'\n",
      " 'mothbeans' 'mothbeans' 'lentil' 'blackgram' 'coconut' 'pomegranate'\n",
      " 'jute' 'coconut' 'pomegranate' 'apple' 'cotton' 'papaya' 'muskmelon'\n",
      " 'coffee' 'papaya' 'orange' 'papaya' 'chickpea' 'jute' 'blackgram'\n",
      " 'orange' 'kidneybeans' 'rice' 'pomegranate' 'lentil' 'jute' 'lentil'\n",
      " 'jute' 'blackgram' 'jute' 'chickpea' 'chickpea' 'kidneybeans' 'papaya'\n",
      " 'mango' 'blackgram' 'maize' 'mungbean' 'blackgram' 'pigeonpeas' 'coconut'\n",
      " 'muskmelon' 'maize' 'blackgram' 'coffee' 'grapes' 'mungbean' 'coffee'\n",
      " 'kidneybeans' 'cotton' 'apple' 'banana' 'lentil' 'watermelon' 'coconut'\n",
      " 'lentil' 'orange' 'papaya' 'blackgram' 'orange' 'rice' 'muskmelon'\n",
      " 'pigeonpeas' 'muskmelon' 'coconut' 'jute' 'banana' 'blackgram' 'papaya'\n",
      " 'banana' 'cotton' 'watermelon' 'orange' 'coffee' 'chickpea' 'rice'\n",
      " 'mothbeans' 'orange' 'mango' 'coffee' 'mothbeans' 'blackgram'\n",
      " 'pomegranate' 'maize' 'mothbeans' 'cotton' 'papaya' 'pigeonpeas'\n",
      " 'mothbeans' 'kidneybeans' 'coffee' 'blackgram' 'lentil' 'coconut' 'rice'\n",
      " 'orange' 'muskmelon' 'watermelon' 'kidneybeans' 'watermelon' 'banana'\n",
      " 'pigeonpeas' 'mungbean' 'banana' 'jute' 'cotton' 'pomegranate'\n",
      " 'pigeonpeas' 'chickpea' 'maize' 'coconut' 'pomegranate' 'rice'\n",
      " 'pigeonpeas' 'grapes' 'blackgram' 'papaya' 'chickpea' 'mungbean'\n",
      " 'coconut' 'maize' 'banana' 'mungbean' 'banana' 'lentil' 'pomegranate'\n",
      " 'chickpea' 'coconut' 'orange' 'pigeonpeas' 'banana' 'banana' 'apple'\n",
      " 'lentil' 'muskmelon' 'mungbean' 'blackgram' 'coconut' 'maize' 'apple'\n",
      " 'coconut' 'kidneybeans' 'mothbeans' 'mungbean' 'lentil' 'watermelon'\n",
      " 'mungbean' 'mothbeans' 'kidneybeans' 'pigeonpeas' 'kidneybeans' 'maize'\n",
      " 'jute' 'chickpea' 'apple' 'orange' 'cotton' 'rice' 'coconut' 'grapes'\n",
      " 'lentil' 'watermelon' 'grapes' 'grapes' 'blackgram' 'pomegranate'\n",
      " 'chickpea' 'coconut' 'maize' 'lentil' 'grapes' 'watermelon' 'jute'\n",
      " 'coffee' 'coffee' 'blackgram' 'jute' 'mungbean' 'kidneybeans' 'banana'\n",
      " 'pigeonpeas' 'coconut' 'papaya' 'papaya' 'blackgram' 'mango'\n",
      " 'pomegranate' 'watermelon' 'pigeonpeas' 'maize' 'apple' 'blackgram'\n",
      " 'chickpea' 'grapes' 'grapes' 'banana' 'cotton' 'rice' 'pomegranate'\n",
      " 'mothbeans' 'banana' 'jute' 'mungbean' 'maize' 'chickpea' 'chickpea'\n",
      " 'chickpea' 'apple' 'rice' 'kidneybeans' 'papaya' 'coffee' 'blackgram'\n",
      " 'kidneybeans' 'mango' 'mango' 'coconut' 'papaya' 'apple' 'chickpea'\n",
      " 'pomegranate' 'chickpea' 'muskmelon' 'apple' 'muskmelon' 'muskmelon'\n",
      " 'mango' 'mango' 'cotton' 'coconut' 'pomegranate' 'rice' 'muskmelon'\n",
      " 'coffee' 'mango' 'lentil' 'maize' 'mango' 'muskmelon' 'kidneybeans'\n",
      " 'mothbeans' 'jute' 'grapes' 'coconut' 'cotton' 'kidneybeans' 'rice'\n",
      " 'apple' 'pomegranate' 'coffee' 'chickpea' 'cotton' 'jute' 'mango'\n",
      " 'banana' 'papaya' 'apple' 'chickpea' 'rice' 'pigeonpeas' 'mothbeans'\n",
      " 'mungbean' 'jute' 'pomegranate' 'grapes' 'mothbeans' 'papaya' 'cotton'\n",
      " 'coconut' 'cotton' 'chickpea' 'banana' 'coffee' 'coconut' 'coffee'\n",
      " 'mango' 'muskmelon' 'apple' 'banana' 'pigeonpeas' 'blackgram' 'orange'\n",
      " 'chickpea' 'watermelon' 'banana' 'apple' 'chickpea' 'coffee' 'pigeonpeas'\n",
      " 'orange' 'apple' 'coconut' 'papaya' 'watermelon' 'mungbean' 'rice'\n",
      " 'chickpea' 'pomegranate' 'chickpea' 'papaya' 'lentil' 'apple'\n",
      " 'pomegranate' 'chickpea' 'mango' 'chickpea' 'pomegranate' 'watermelon'\n",
      " 'kidneybeans' 'mungbean' 'muskmelon' 'watermelon' 'kidneybeans'\n",
      " 'muskmelon' 'mango' 'jute' 'blackgram' 'chickpea' 'banana' 'lentil'\n",
      " 'pigeonpeas' 'papaya' 'kidneybeans' 'mungbean' 'orange' 'cotton' 'grapes'\n",
      " 'apple' 'lentil' 'banana' 'jute' 'apple' 'pomegranate' 'apple' 'mungbean'\n",
      " 'muskmelon' 'coffee' 'coffee' 'pigeonpeas' 'jute' 'kidneybeans' 'banana'\n",
      " 'maize' 'jute' 'cotton' 'pigeonpeas' 'mango' 'kidneybeans' 'papaya'\n",
      " 'watermelon' 'blackgram' 'banana' 'rice' 'mungbean' 'pigeonpeas' 'mango'\n",
      " 'cotton' 'papaya' 'mungbean' 'maize' 'mungbean' 'orange' 'rice'\n",
      " 'blackgram' 'mungbean' 'coffee' 'banana' 'pigeonpeas' 'papaya' 'apple'\n",
      " 'pomegranate' 'maize' 'mango' 'coconut' 'apple' 'lentil' 'jute'\n",
      " 'mungbean' 'lentil' 'coconut' 'blackgram' 'jute' 'lentil' 'cotton'\n",
      " 'watermelon' 'apple' 'grapes' 'coconut' 'grapes' 'watermelon' 'rice'\n",
      " 'mango' 'mango' 'coffee' 'pomegranate' 'banana' 'grapes' 'jute' 'orange'\n",
      " 'cotton' 'mango' 'papaya' 'muskmelon' 'mungbean' 'jute' 'chickpea'\n",
      " 'mungbean' 'pomegranate' 'watermelon' 'blackgram' 'cotton' 'papaya'\n",
      " 'watermelon' 'mungbean' 'rice' 'coconut' 'mungbean' 'mothbeans' 'maize'\n",
      " 'rice' 'maize' 'coconut' 'orange' 'pomegranate' 'pigeonpeas' 'watermelon'\n",
      " 'blackgram' 'mothbeans' 'rice' 'rice' 'cotton' 'cotton' 'pigeonpeas']\n"
     ]
    }
   ],
   "source": [
    "print(y_pred)\n"
   ]
  },
  {
   "cell_type": "code",
   "execution_count": 15,
   "id": "7e321e42",
   "metadata": {},
   "outputs": [
    {
     "name": "stdout",
     "output_type": "stream",
     "text": [
      "          Actual   Predicted\n",
      "1451   muskmelon   muskmelon\n",
      "1334  watermelon  watermelon\n",
      "1761      papaya      papaya\n",
      "1735      papaya      papaya\n",
      "1576       apple       apple\n",
      "1110       mango       mango\n",
      "1594       apple       apple\n",
      "530    mothbeans   mothbeans\n",
      "651     mungbean   mothbeans\n",
      "819       lentil      lentil\n"
     ]
    }
   ],
   "source": [
    "import pandas as pd\n",
    "\n",
    "# create a DataFrame with the test data and the predicted values\n",
    "results = pd.DataFrame({'Actual': y_test, 'Predicted': y_pred})\n",
    "\n",
    "# display the first 10 rows of the results\n",
    "print(results.head(10))"
   ]
  },
  {
   "cell_type": "code",
   "execution_count": 16,
   "id": "c3d36171",
   "metadata": {},
   "outputs": [
    {
     "name": "stdout",
     "output_type": "stream",
     "text": [
      "The model's accuracy is: 0.8681818181818182\n"
     ]
    }
   ],
   "source": [
    "accuracy = logreg.score(X_test, y_test)\n",
    "print(\"The model's accuracy is:\", accuracy)"
   ]
  },
  {
   "cell_type": "code",
   "execution_count": 17,
   "id": "b5ed17d3",
   "metadata": {},
   "outputs": [
    {
     "name": "stdout",
     "output_type": "stream",
     "text": [
      "F1 score: 0.87\n"
     ]
    }
   ],
   "source": [
    "from sklearn.metrics import f1_score\n",
    "\n",
    "# Assuming y_test and y_pred are the true labels and predicted labels respectively\n",
    "f1 = f1_score(y_test, y_pred, average='weighted')\n",
    "print(f\"F1 score: {f1:.2f}\")\n"
   ]
  },
  {
   "cell_type": "code",
   "execution_count": 18,
   "id": "b8a3addd",
   "metadata": {},
   "outputs": [
    {
     "name": "stdout",
     "output_type": "stream",
     "text": [
      "              precision    recall  f1-score   support\n",
      "\n",
      "       apple       1.00      1.00      1.00        23\n",
      "      banana       0.95      1.00      0.98        21\n",
      "   blackgram       0.67      0.80      0.73        20\n",
      "    chickpea       1.00      1.00      1.00        26\n",
      "     coconut       1.00      0.93      0.96        27\n",
      "      coffee       0.89      0.94      0.91        17\n",
      "      cotton       0.80      0.94      0.86        17\n",
      "      grapes       1.00      1.00      1.00        14\n",
      "        jute       0.91      0.87      0.89        23\n",
      " kidneybeans       0.72      0.65      0.68        20\n",
      "      lentil       0.61      1.00      0.76        11\n",
      "       maize       0.94      0.71      0.81        21\n",
      "       mango       0.95      1.00      0.97        19\n",
      "   mothbeans       0.64      0.38      0.47        24\n",
      "    mungbean       0.50      0.63      0.56        19\n",
      "   muskmelon       1.00      1.00      1.00        17\n",
      "      orange       0.93      1.00      0.97        14\n",
      "      papaya       0.88      0.91      0.89        23\n",
      "  pigeonpeas       0.80      0.70      0.74        23\n",
      " pomegranate       1.00      0.96      0.98        23\n",
      "        rice       0.89      0.89      0.89        19\n",
      "  watermelon       1.00      1.00      1.00        19\n",
      "\n",
      "    accuracy                           0.87       440\n",
      "   macro avg       0.87      0.88      0.87       440\n",
      "weighted avg       0.87      0.87      0.87       440\n",
      "\n"
     ]
    }
   ],
   "source": [
    "from sklearn.metrics import classification_report\n",
    "\n",
    "y_pred = logreg.predict(X_test)\n",
    "print(classification_report(y_test, y_pred))\n"
   ]
  },
  {
   "cell_type": "code",
   "execution_count": 19,
   "id": "e08905c9",
   "metadata": {},
   "outputs": [
    {
     "name": "stdout",
     "output_type": "stream",
     "text": [
      "Confusion matrix:\n",
      "[[23  0  0  0  0  0  0  0  0  0  0  0  0  0  0  0  0  0  0  0  0  0]\n",
      " [ 0 21  0  0  0  0  0  0  0  0  0  0  0  0  0  0  0  0  0  0  0  0]\n",
      " [ 0  0 16  0  0  0  0  0  0  0  2  0  0  1  1  0  0  0  0  0  0  0]\n",
      " [ 0  0  0 26  0  0  0  0  0  0  0  0  0  0  0  0  0  0  0  0  0  0]\n",
      " [ 0  0  0  0 25  0  0  0  0  0  0  0  0  0  0  0  1  1  0  0  0  0]\n",
      " [ 0  0  0  0  0 16  0  0  1  0  0  0  0  0  0  0  0  0  0  0  0  0]\n",
      " [ 0  0  0  0  0  0 16  0  0  0  0  1  0  0  0  0  0  0  0  0  0  0]\n",
      " [ 0  0  0  0  0  0  0 14  0  0  0  0  0  0  0  0  0  0  0  0  0  0]\n",
      " [ 0  0  0  0  0  1  0  0 20  0  0  0  0  0  0  0  0  1  0  0  1  0]\n",
      " [ 0  0  1  0  0  0  0  0  0 13  2  0  0  0  0  0  0  0  4  0  0  0]\n",
      " [ 0  0  0  0  0  0  0  0  0  0 11  0  0  0  0  0  0  0  0  0  0  0]\n",
      " [ 0  1  1  0  0  0  4  0  0  0  0 15  0  0  0  0  0  0  0  0  0  0]\n",
      " [ 0  0  0  0  0  0  0  0  0  0  0  0 19  0  0  0  0  0  0  0  0  0]\n",
      " [ 0  0  2  0  0  0  0  0  0  0  2  0  0  9 11  0  0  0  0  0  0  0]\n",
      " [ 0  0  3  0  0  0  0  0  0  0  1  0  0  3 12  0  0  0  0  0  0  0]\n",
      " [ 0  0  0  0  0  0  0  0  0  0  0  0  0  0  0 17  0  0  0  0  0  0]\n",
      " [ 0  0  0  0  0  0  0  0  0  0  0  0  0  0  0  0 14  0  0  0  0  0]\n",
      " [ 0  0  0  0  0  0  0  0  0  0  0  0  1  0  0  0  0 21  0  0  1  0]\n",
      " [ 0  0  1  0  0  0  0  0  0  5  0  0  0  1  0  0  0  0 16  0  0  0]\n",
      " [ 0  0  0  0  0  0  0  0  0  0  0  0  0  0  0  0  0  1  0 22  0  0]\n",
      " [ 0  0  0  0  0  1  0  0  1  0  0  0  0  0  0  0  0  0  0  0 17  0]\n",
      " [ 0  0  0  0  0  0  0  0  0  0  0  0  0  0  0  0  0  0  0  0  0 19]]\n"
     ]
    }
   ],
   "source": [
    "from sklearn.metrics import confusion_matrix\n",
    "\n",
    "# Generate confusion matrix\n",
    "cm = confusion_matrix(y_test, y_pred)\n",
    "print(\"Confusion matrix:\")\n",
    "print(cm)\n"
   ]
  },
  {
   "cell_type": "code",
   "execution_count": 25,
   "id": "94746818",
   "metadata": {},
   "outputs": [],
   "source": [
    "import pickle\n",
    "\n",
    "# Save model to file\n",
    "with open('LR.pickle', 'wb') as f:\n",
    "    pickle.dump(logreg, f)\n"
   ]
  },
  {
   "cell_type": "code",
   "execution_count": 27,
   "id": "3c8c90fd",
   "metadata": {},
   "outputs": [],
   "source": [
    "# Load model from file\n",
    "with open('LR.pickle', 'rb') as f:\n",
    "    logreg = pickle.load(f)\n"
   ]
  },
  {
   "cell_type": "code",
   "execution_count": 28,
   "id": "b980e77a",
   "metadata": {},
   "outputs": [
    {
     "name": "stdout",
     "output_type": "stream",
     "text": [
      "['muskmelon' 'watermelon' 'papaya' 'papaya' 'apple' 'mango' 'apple'\n",
      " 'mothbeans' 'mothbeans' 'lentil' 'blackgram' 'coconut' 'pomegranate'\n",
      " 'jute' 'coconut' 'pomegranate' 'apple' 'cotton' 'papaya' 'muskmelon'\n",
      " 'coffee' 'papaya' 'orange' 'papaya' 'chickpea' 'jute' 'blackgram'\n",
      " 'orange' 'kidneybeans' 'rice' 'pomegranate' 'lentil' 'jute' 'lentil'\n",
      " 'jute' 'blackgram' 'jute' 'chickpea' 'chickpea' 'kidneybeans' 'papaya'\n",
      " 'mango' 'blackgram' 'maize' 'mungbean' 'blackgram' 'pigeonpeas' 'coconut'\n",
      " 'muskmelon' 'maize' 'blackgram' 'coffee' 'grapes' 'mungbean' 'coffee'\n",
      " 'kidneybeans' 'cotton' 'apple' 'banana' 'lentil' 'watermelon' 'coconut'\n",
      " 'lentil' 'orange' 'papaya' 'blackgram' 'orange' 'rice' 'muskmelon'\n",
      " 'pigeonpeas' 'muskmelon' 'coconut' 'jute' 'banana' 'blackgram' 'papaya'\n",
      " 'banana' 'cotton' 'watermelon' 'orange' 'coffee' 'chickpea' 'rice'\n",
      " 'mothbeans' 'orange' 'mango' 'coffee' 'mothbeans' 'blackgram'\n",
      " 'pomegranate' 'maize' 'mothbeans' 'cotton' 'papaya' 'pigeonpeas'\n",
      " 'mothbeans' 'kidneybeans' 'coffee' 'blackgram' 'lentil' 'coconut' 'rice'\n",
      " 'orange' 'muskmelon' 'watermelon' 'kidneybeans' 'watermelon' 'banana'\n",
      " 'pigeonpeas' 'mungbean' 'banana' 'jute' 'cotton' 'pomegranate'\n",
      " 'pigeonpeas' 'chickpea' 'maize' 'coconut' 'pomegranate' 'rice'\n",
      " 'pigeonpeas' 'grapes' 'blackgram' 'papaya' 'chickpea' 'mungbean'\n",
      " 'coconut' 'maize' 'banana' 'mungbean' 'banana' 'lentil' 'pomegranate'\n",
      " 'chickpea' 'coconut' 'orange' 'pigeonpeas' 'banana' 'banana' 'apple'\n",
      " 'lentil' 'muskmelon' 'mungbean' 'blackgram' 'coconut' 'maize' 'apple'\n",
      " 'coconut' 'kidneybeans' 'mothbeans' 'mungbean' 'lentil' 'watermelon'\n",
      " 'mungbean' 'mothbeans' 'kidneybeans' 'pigeonpeas' 'kidneybeans' 'maize'\n",
      " 'jute' 'chickpea' 'apple' 'orange' 'cotton' 'rice' 'coconut' 'grapes'\n",
      " 'lentil' 'watermelon' 'grapes' 'grapes' 'blackgram' 'pomegranate'\n",
      " 'chickpea' 'coconut' 'maize' 'lentil' 'grapes' 'watermelon' 'jute'\n",
      " 'coffee' 'coffee' 'blackgram' 'jute' 'mungbean' 'kidneybeans' 'banana'\n",
      " 'pigeonpeas' 'coconut' 'papaya' 'papaya' 'blackgram' 'mango'\n",
      " 'pomegranate' 'watermelon' 'pigeonpeas' 'maize' 'apple' 'blackgram'\n",
      " 'chickpea' 'grapes' 'grapes' 'banana' 'cotton' 'rice' 'pomegranate'\n",
      " 'mothbeans' 'banana' 'jute' 'mungbean' 'maize' 'chickpea' 'chickpea'\n",
      " 'chickpea' 'apple' 'rice' 'kidneybeans' 'papaya' 'coffee' 'blackgram'\n",
      " 'kidneybeans' 'mango' 'mango' 'coconut' 'papaya' 'apple' 'chickpea'\n",
      " 'pomegranate' 'chickpea' 'muskmelon' 'apple' 'muskmelon' 'muskmelon'\n",
      " 'mango' 'mango' 'cotton' 'coconut' 'pomegranate' 'rice' 'muskmelon'\n",
      " 'coffee' 'mango' 'lentil' 'maize' 'mango' 'muskmelon' 'kidneybeans'\n",
      " 'mothbeans' 'jute' 'grapes' 'coconut' 'cotton' 'kidneybeans' 'rice'\n",
      " 'apple' 'pomegranate' 'coffee' 'chickpea' 'cotton' 'jute' 'mango'\n",
      " 'banana' 'papaya' 'apple' 'chickpea' 'rice' 'pigeonpeas' 'mothbeans'\n",
      " 'mungbean' 'jute' 'pomegranate' 'grapes' 'mothbeans' 'papaya' 'cotton'\n",
      " 'coconut' 'cotton' 'chickpea' 'banana' 'coffee' 'coconut' 'coffee'\n",
      " 'mango' 'muskmelon' 'apple' 'banana' 'pigeonpeas' 'blackgram' 'orange'\n",
      " 'chickpea' 'watermelon' 'banana' 'apple' 'chickpea' 'coffee' 'pigeonpeas'\n",
      " 'orange' 'apple' 'coconut' 'papaya' 'watermelon' 'mungbean' 'rice'\n",
      " 'chickpea' 'pomegranate' 'chickpea' 'papaya' 'lentil' 'apple'\n",
      " 'pomegranate' 'chickpea' 'mango' 'chickpea' 'pomegranate' 'watermelon'\n",
      " 'kidneybeans' 'mungbean' 'muskmelon' 'watermelon' 'kidneybeans'\n",
      " 'muskmelon' 'mango' 'jute' 'blackgram' 'chickpea' 'banana' 'lentil'\n",
      " 'pigeonpeas' 'papaya' 'kidneybeans' 'mungbean' 'orange' 'cotton' 'grapes'\n",
      " 'apple' 'lentil' 'banana' 'jute' 'apple' 'pomegranate' 'apple' 'mungbean'\n",
      " 'muskmelon' 'coffee' 'coffee' 'pigeonpeas' 'jute' 'kidneybeans' 'banana'\n",
      " 'maize' 'jute' 'cotton' 'pigeonpeas' 'mango' 'kidneybeans' 'papaya'\n",
      " 'watermelon' 'blackgram' 'banana' 'rice' 'mungbean' 'pigeonpeas' 'mango'\n",
      " 'cotton' 'papaya' 'mungbean' 'maize' 'mungbean' 'orange' 'rice'\n",
      " 'blackgram' 'mungbean' 'coffee' 'banana' 'pigeonpeas' 'papaya' 'apple'\n",
      " 'pomegranate' 'maize' 'mango' 'coconut' 'apple' 'lentil' 'jute'\n",
      " 'mungbean' 'lentil' 'coconut' 'blackgram' 'jute' 'lentil' 'cotton'\n",
      " 'watermelon' 'apple' 'grapes' 'coconut' 'grapes' 'watermelon' 'rice'\n",
      " 'mango' 'mango' 'coffee' 'pomegranate' 'banana' 'grapes' 'jute' 'orange'\n",
      " 'cotton' 'mango' 'papaya' 'muskmelon' 'mungbean' 'jute' 'chickpea'\n",
      " 'mungbean' 'pomegranate' 'watermelon' 'blackgram' 'cotton' 'papaya'\n",
      " 'watermelon' 'mungbean' 'rice' 'coconut' 'mungbean' 'mothbeans' 'maize'\n",
      " 'rice' 'maize' 'coconut' 'orange' 'pomegranate' 'pigeonpeas' 'watermelon'\n",
      " 'blackgram' 'mothbeans' 'rice' 'rice' 'cotton' 'cotton' 'pigeonpeas']\n"
     ]
    }
   ],
   "source": [
    "import pickle\n",
    "\n",
    "# Load the saved model\n",
    "with open('LR.pickle', 'rb') as f:\n",
    "    loaded_model = pickle.load(f)\n",
    "\n",
    "# Use the loaded model to make predictions\n",
    "y_pred = loaded_model.predict(X_test)\n",
    "\n",
    "# Print the predictions\n",
    "print(y_pred)\n"
   ]
  }
 ],
 "metadata": {
  "kernelspec": {
   "display_name": "Python 3 (ipykernel)",
   "language": "python",
   "name": "python3"
  },
  "language_info": {
   "codemirror_mode": {
    "name": "ipython",
    "version": 3
   },
   "file_extension": ".py",
   "mimetype": "text/x-python",
   "name": "python",
   "nbconvert_exporter": "python",
   "pygments_lexer": "ipython3",
   "version": "3.9.12"
  }
 },
 "nbformat": 4,
 "nbformat_minor": 5
}
