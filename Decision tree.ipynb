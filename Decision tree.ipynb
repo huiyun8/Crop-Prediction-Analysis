{
 "cells": [
  {
   "cell_type": "code",
   "execution_count": null,
   "id": "2641c41a-73de-467e-909c-9f8e93e7ba76",
   "metadata": {},
   "outputs": [],
   "source": [
    "import pandas as pd\n",
    "import numpy as np\n",
    "import seaborn as sns\n",
    "import matplotlib.pyplot as plt\n",
    "from sklearn.metrics import classification_report, roc_auc_score, confusion_matrix, accuracy_score\n",
    "%matplotlib inline"
   ]
  },
  {
   "cell_type": "markdown",
   "id": "ddc1b193-951e-4fe2-a82f-2437c6427cab",
   "metadata": {},
   "source": [
    "# Load  Data"
   ]
  },
  {
   "cell_type": "code",
   "execution_count": null,
   "id": "c2130baa-3e2a-4b38-9ff5-dc60bf30ee67",
   "metadata": {},
   "outputs": [],
   "source": [
    "data = pd.read_csv('Crop_recommendation.csv')\n",
    "X = data.drop('label' ,axis =1)\n",
    "X.head()"
   ]
  },
  {
   "cell_type": "code",
   "execution_count": null,
   "id": "2f809782-7329-4989-9d7f-21015deb378b",
   "metadata": {},
   "outputs": [],
   "source": [
    "y = data['label']\n",
    "y.head()"
   ]
  },
  {
   "cell_type": "code",
   "execution_count": null,
   "id": "c2f93d78-d629-404e-898c-e6a62473e018",
   "metadata": {},
   "outputs": [],
   "source": [
    "model = []\n",
    "accuracy = []"
   ]
  },
  {
   "cell_type": "markdown",
   "id": "40ff2fe9-a78d-489b-acd4-6b55d80eb47f",
   "metadata": {},
   "source": [
    "# Model Training"
   ]
  },
  {
   "cell_type": "code",
   "execution_count": null,
   "id": "7248c2e1-d721-4c58-8ff9-d73af69dc635",
   "metadata": {},
   "outputs": [],
   "source": [
    "from sklearn.model_selection import train_test_split\n",
    "X_train,X_test,y_train,y_test = train_test_split(X,y,test_size = 0.2)\n",
    "\n",
    "from sklearn.tree import DecisionTreeClassifier\n",
    "DT = DecisionTreeClassifier().fit(X_train, y_train)\n",
    "\n",
    "predict = DT.predict(X_test)\n",
    "DT_accuracy = DT.score(X_test,y_test)"
   ]
  },
  {
   "cell_type": "code",
   "execution_count": null,
   "id": "e863f749-7db2-4180-a927-190e34cf1849",
   "metadata": {},
   "outputs": [],
   "source": [
    "DT_accuracy"
   ]
  },
  {
   "cell_type": "code",
   "execution_count": null,
   "id": "3df5ca27-0ac0-4451-8225-a3a1edf96db3",
   "metadata": {},
   "outputs": [],
   "source": [
    "DT_train_accuracy = DT.score(X_train, y_train)"
   ]
  },
  {
   "cell_type": "code",
   "execution_count": null,
   "id": "6190a00c-00a1-4042-8735-f6f469d23132",
   "metadata": {},
   "outputs": [],
   "source": [
    "DT_train_accuracy"
   ]
  },
  {
   "cell_type": "markdown",
   "id": "39c6e76f-d7fe-4769-99ea-8ed8f4953c98",
   "metadata": {},
   "source": [
    "# Evaluation"
   ]
  },
  {
   "cell_type": "code",
   "execution_count": null,
   "id": "68d068a9-4793-4043-990d-f30bc3f8eacf",
   "metadata": {},
   "outputs": [],
   "source": [
    "#Let's visualize the import features which are taken into consideration by decision trees.\n",
    "plt.figure(figsize=(10,4), dpi=80)\n",
    "c_features = len(X_train.columns)\n",
    "plt.barh(range(c_features), DT.feature_importances_)\n",
    "plt.xlabel(\"Feature importance\")\n",
    "plt.ylabel(\"Feature name\")\n",
    "plt.yticks(np.arange(c_features), X_train.columns)\n",
    "plt.show()"
   ]
  },
  {
   "cell_type": "code",
   "execution_count": null,
   "id": "ddaa1259-54ed-4f8b-8c0a-db7571852832",
   "metadata": {},
   "outputs": [],
   "source": [
    "roc_auc = roc_auc_score(y_test, DT.predict_proba(X_test), multi_class = \"ovo\")"
   ]
  },
  {
   "cell_type": "code",
   "execution_count": null,
   "id": "c2e2de00-c017-4915-aa2f-e5dbe31a23d1",
   "metadata": {},
   "outputs": [],
   "source": [
    "roc_auc"
   ]
  },
  {
   "cell_type": "code",
   "execution_count": null,
   "id": "5bb70bcd-d0d5-4a47-967c-a65c2e2504fc",
   "metadata": {},
   "outputs": [],
   "source": [
    "# Calculate the accuracy, confusion matrix, and classification report\n",
    "accuracy = accuracy_score(y_test, predict)\n",
    "confusion_mat = confusion_matrix(y_test, predict)\n",
    "classification_rep = classification_report(y_test, predict)"
   ]
  },
  {
   "cell_type": "code",
   "execution_count": null,
   "id": "6d065cca-8282-4ad8-97e2-d8ebe99b331e",
   "metadata": {},
   "outputs": [],
   "source": [
    "#checking the accuracy of the model\n",
    "print(\"Accuracy:\", accuracy)\n",
    "print(\"Confusion Matrix:\\n\", confusion_mat)\n",
    "print(\"Classification Report:\\n\", classification_rep)"
   ]
  },
  {
   "cell_type": "code",
   "execution_count": null,
   "id": "15a1b855-89af-41c8-bb2a-e58a9ec30432",
   "metadata": {},
   "outputs": [],
   "source": [
    "#Create a heatmap of the confusion matrix\n",
    "sns.heatmap(confusion_mat, annot=True, cmap='coolwarm')\n",
    "plt.xlabel('Predicted')\n",
    "plt.ylabel('True')\n",
    "plt.title('Confusion Matrix')\n",
    "plt.show()"
   ]
  },
  {
   "cell_type": "markdown",
   "id": "b862ea7a-e10b-459e-80c5-6f1ff62cd0d0",
   "metadata": {},
   "source": [
    "# Saving Model for Testing"
   ]
  },
  {
   "cell_type": "markdown",
   "id": "94cf6b3a-e6f1-45c5-8957-e244b7172e18",
   "metadata": {},
   "source": [
    "##### Pickle approach"
   ]
  },
  {
   "cell_type": "code",
   "execution_count": null,
   "id": "39284ced-5180-4fd2-b0c2-f58a33f00e4a",
   "metadata": {},
   "outputs": [],
   "source": [
    "import pickle"
   ]
  },
  {
   "cell_type": "code",
   "execution_count": null,
   "id": "22a7a16d-4b9e-4ac1-9858-6633db9cea84",
   "metadata": {},
   "outputs": [],
   "source": [
    "# Save the Model to file in the current working directory\n",
    "\n",
    "Pkl_Filename = \"Pickle_DecisionTree_Model.pkl\"  \n",
    "\n",
    "with open(Pkl_Filename, 'wb') as file:  \n",
    "    pickle.dump(DT, file)"
   ]
  },
  {
   "cell_type": "code",
   "execution_count": null,
   "id": "db7e0deb-d125-4ef4-89f7-e3b960102314",
   "metadata": {},
   "outputs": [],
   "source": [
    "# Load the Model back from file\n",
    "with open(Pkl_Filename, 'rb') as file:  \n",
    "    Pickle_DecisionTree_Model = pickle.load(file)\n",
    "\n",
    "Pickle_DecisionTree_Model"
   ]
  },
  {
   "cell_type": "code",
   "execution_count": null,
   "id": "3e9fb3bb-f8b6-4a39-9672-b5c7d4a2e1f5",
   "metadata": {},
   "outputs": [],
   "source": [
    "# Use the Reloaded Model to \n",
    "# Calculate the accuracy score and predict target values\n",
    "\n",
    "# Calculate the Score \n",
    "score = Pickle_DecisionTree_Model.score(X_test, y_test)  \n",
    "# Print the Score\n",
    "print(\"Test score: {0:.2f} %\".format(100 * score))  \n",
    "\n",
    "# Predict the Labels using the reloaded Model\n",
    "Ypredict = Pickle_DecisionTree_Model.predict(X_test)  \n",
    "\n",
    "Ypredict"
   ]
  },
  {
   "cell_type": "code",
   "execution_count": null,
   "id": "fd3c6250",
   "metadata": {},
   "outputs": [],
   "source": []
  }
 ],
 "metadata": {
  "kernelspec": {
   "display_name": "Python 3 (ipykernel)",
   "language": "python",
   "name": "python3"
  },
  "language_info": {
   "codemirror_mode": {
    "name": "ipython",
    "version": 3
   },
   "file_extension": ".py",
   "mimetype": "text/x-python",
   "name": "python",
   "nbconvert_exporter": "python",
   "pygments_lexer": "ipython3",
   "version": "3.9.12"
  }
 },
 "nbformat": 4,
 "nbformat_minor": 5
}
