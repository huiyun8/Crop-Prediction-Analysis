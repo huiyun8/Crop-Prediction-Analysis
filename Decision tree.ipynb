{
 "cells": [
  {
   "cell_type": "code",
   "execution_count": 1,
   "id": "2641c41a-73de-467e-909c-9f8e93e7ba76",
   "metadata": {},
   "outputs": [],
   "source": [
    "import pandas as pd\n",
    "import numpy as np\n",
    "import seaborn as sns\n",
    "import matplotlib.pyplot as plt\n",
    "from sklearn.metrics import mean_squared_error, r2_score, classification_report\n",
    "from sklearn.metrics import accuracy_score, precision_score, recall_score, roc_auc_score, confusion_matrix\n",
    "%matplotlib inline"
   ]
  },
  {
   "cell_type": "markdown",
   "id": "ddc1b193-951e-4fe2-a82f-2437c6427cab",
   "metadata": {},
   "source": [
    "# Load  Data"
   ]
  },
  {
   "cell_type": "code",
   "execution_count": 2,
   "id": "c2130baa-3e2a-4b38-9ff5-dc60bf30ee67",
   "metadata": {},
   "outputs": [
    {
     "data": {
      "text/html": [
       "<div>\n",
       "<style scoped>\n",
       "    .dataframe tbody tr th:only-of-type {\n",
       "        vertical-align: middle;\n",
       "    }\n",
       "\n",
       "    .dataframe tbody tr th {\n",
       "        vertical-align: top;\n",
       "    }\n",
       "\n",
       "    .dataframe thead th {\n",
       "        text-align: right;\n",
       "    }\n",
       "</style>\n",
       "<table border=\"1\" class=\"dataframe\">\n",
       "  <thead>\n",
       "    <tr style=\"text-align: right;\">\n",
       "      <th></th>\n",
       "      <th>N</th>\n",
       "      <th>P</th>\n",
       "      <th>K</th>\n",
       "      <th>temperature</th>\n",
       "      <th>humidity</th>\n",
       "      <th>ph</th>\n",
       "      <th>rainfall</th>\n",
       "    </tr>\n",
       "  </thead>\n",
       "  <tbody>\n",
       "    <tr>\n",
       "      <th>0</th>\n",
       "      <td>90</td>\n",
       "      <td>42</td>\n",
       "      <td>43</td>\n",
       "      <td>20.879744</td>\n",
       "      <td>82.002744</td>\n",
       "      <td>6.502985</td>\n",
       "      <td>202.935536</td>\n",
       "    </tr>\n",
       "    <tr>\n",
       "      <th>1</th>\n",
       "      <td>85</td>\n",
       "      <td>58</td>\n",
       "      <td>41</td>\n",
       "      <td>21.770462</td>\n",
       "      <td>80.319644</td>\n",
       "      <td>7.038096</td>\n",
       "      <td>226.655537</td>\n",
       "    </tr>\n",
       "    <tr>\n",
       "      <th>2</th>\n",
       "      <td>60</td>\n",
       "      <td>55</td>\n",
       "      <td>44</td>\n",
       "      <td>23.004459</td>\n",
       "      <td>82.320763</td>\n",
       "      <td>7.840207</td>\n",
       "      <td>263.964248</td>\n",
       "    </tr>\n",
       "    <tr>\n",
       "      <th>3</th>\n",
       "      <td>74</td>\n",
       "      <td>35</td>\n",
       "      <td>40</td>\n",
       "      <td>26.491096</td>\n",
       "      <td>80.158363</td>\n",
       "      <td>6.980401</td>\n",
       "      <td>242.864034</td>\n",
       "    </tr>\n",
       "    <tr>\n",
       "      <th>4</th>\n",
       "      <td>78</td>\n",
       "      <td>42</td>\n",
       "      <td>42</td>\n",
       "      <td>20.130175</td>\n",
       "      <td>81.604873</td>\n",
       "      <td>7.628473</td>\n",
       "      <td>262.717340</td>\n",
       "    </tr>\n",
       "  </tbody>\n",
       "</table>\n",
       "</div>"
      ],
      "text/plain": [
       "    N   P   K  temperature   humidity        ph    rainfall\n",
       "0  90  42  43    20.879744  82.002744  6.502985  202.935536\n",
       "1  85  58  41    21.770462  80.319644  7.038096  226.655537\n",
       "2  60  55  44    23.004459  82.320763  7.840207  263.964248\n",
       "3  74  35  40    26.491096  80.158363  6.980401  242.864034\n",
       "4  78  42  42    20.130175  81.604873  7.628473  262.717340"
      ]
     },
     "execution_count": 2,
     "metadata": {},
     "output_type": "execute_result"
    }
   ],
   "source": [
    "data = pd.read_csv('Crop_recommendation.csv')\n",
    "X = data.drop('label' ,axis =1)\n",
    "X.head()"
   ]
  },
  {
   "cell_type": "code",
   "execution_count": 3,
   "id": "425e80c9-8d0c-47db-ad02-feebfdb5b9db",
   "metadata": {},
   "outputs": [
    {
     "data": {
      "text/html": [
       "<div>\n",
       "<style scoped>\n",
       "    .dataframe tbody tr th:only-of-type {\n",
       "        vertical-align: middle;\n",
       "    }\n",
       "\n",
       "    .dataframe tbody tr th {\n",
       "        vertical-align: top;\n",
       "    }\n",
       "\n",
       "    .dataframe thead th {\n",
       "        text-align: right;\n",
       "    }\n",
       "</style>\n",
       "<table border=\"1\" class=\"dataframe\">\n",
       "  <thead>\n",
       "    <tr style=\"text-align: right;\">\n",
       "      <th></th>\n",
       "      <th>N</th>\n",
       "      <th>P</th>\n",
       "      <th>K</th>\n",
       "      <th>temperature</th>\n",
       "      <th>humidity</th>\n",
       "      <th>ph</th>\n",
       "      <th>rainfall</th>\n",
       "      <th>label</th>\n",
       "    </tr>\n",
       "  </thead>\n",
       "  <tbody>\n",
       "    <tr>\n",
       "      <th>0</th>\n",
       "      <td>90</td>\n",
       "      <td>42</td>\n",
       "      <td>43</td>\n",
       "      <td>20.879744</td>\n",
       "      <td>82.002744</td>\n",
       "      <td>6.502985</td>\n",
       "      <td>202.935536</td>\n",
       "      <td>20</td>\n",
       "    </tr>\n",
       "    <tr>\n",
       "      <th>1</th>\n",
       "      <td>85</td>\n",
       "      <td>58</td>\n",
       "      <td>41</td>\n",
       "      <td>21.770462</td>\n",
       "      <td>80.319644</td>\n",
       "      <td>7.038096</td>\n",
       "      <td>226.655537</td>\n",
       "      <td>20</td>\n",
       "    </tr>\n",
       "    <tr>\n",
       "      <th>2</th>\n",
       "      <td>60</td>\n",
       "      <td>55</td>\n",
       "      <td>44</td>\n",
       "      <td>23.004459</td>\n",
       "      <td>82.320763</td>\n",
       "      <td>7.840207</td>\n",
       "      <td>263.964248</td>\n",
       "      <td>20</td>\n",
       "    </tr>\n",
       "    <tr>\n",
       "      <th>3</th>\n",
       "      <td>74</td>\n",
       "      <td>35</td>\n",
       "      <td>40</td>\n",
       "      <td>26.491096</td>\n",
       "      <td>80.158363</td>\n",
       "      <td>6.980401</td>\n",
       "      <td>242.864034</td>\n",
       "      <td>20</td>\n",
       "    </tr>\n",
       "    <tr>\n",
       "      <th>4</th>\n",
       "      <td>78</td>\n",
       "      <td>42</td>\n",
       "      <td>42</td>\n",
       "      <td>20.130175</td>\n",
       "      <td>81.604873</td>\n",
       "      <td>7.628473</td>\n",
       "      <td>262.717340</td>\n",
       "      <td>20</td>\n",
       "    </tr>\n",
       "  </tbody>\n",
       "</table>\n",
       "</div>"
      ],
      "text/plain": [
       "    N   P   K  temperature   humidity        ph    rainfall  label\n",
       "0  90  42  43    20.879744  82.002744  6.502985  202.935536     20\n",
       "1  85  58  41    21.770462  80.319644  7.038096  226.655537     20\n",
       "2  60  55  44    23.004459  82.320763  7.840207  263.964248     20\n",
       "3  74  35  40    26.491096  80.158363  6.980401  242.864034     20\n",
       "4  78  42  42    20.130175  81.604873  7.628473  262.717340     20"
      ]
     },
     "execution_count": 3,
     "metadata": {},
     "output_type": "execute_result"
    }
   ],
   "source": [
    "from sklearn.preprocessing import LabelEncoder\n",
    "le = LabelEncoder()\n",
    "data['label'] = le.fit_transform(data['label'])\n",
    "data.head()"
   ]
  },
  {
   "cell_type": "code",
   "execution_count": 4,
   "id": "2f809782-7329-4989-9d7f-21015deb378b",
   "metadata": {},
   "outputs": [
    {
     "data": {
      "text/plain": [
       "0    20\n",
       "1    20\n",
       "2    20\n",
       "3    20\n",
       "4    20\n",
       "Name: label, dtype: int64"
      ]
     },
     "execution_count": 4,
     "metadata": {},
     "output_type": "execute_result"
    }
   ],
   "source": [
    "y = data['label']\n",
    "y.head()"
   ]
  },
  {
   "cell_type": "code",
   "execution_count": 5,
   "id": "c2f93d78-d629-404e-898c-e6a62473e018",
   "metadata": {},
   "outputs": [],
   "source": [
    "model = []\n",
    "accuracy = []"
   ]
  },
  {
   "cell_type": "markdown",
   "id": "40ff2fe9-a78d-489b-acd4-6b55d80eb47f",
   "metadata": {},
   "source": [
    "# Model Training"
   ]
  },
  {
   "cell_type": "code",
   "execution_count": 6,
   "id": "7248c2e1-d721-4c58-8ff9-d73af69dc635",
   "metadata": {},
   "outputs": [],
   "source": [
    "from sklearn.model_selection import train_test_split\n",
    "X_train,X_test,y_train,y_test = train_test_split(X,y,test_size = 0.2, random_state=42)\n",
    "#DECISION TREE\n",
    "from sklearn.tree import DecisionTreeClassifier\n",
    "DT = DecisionTreeClassifier()\n",
    "DT.fit(X_train , y_train)\n",
    "DecisionTreeClassifier()\n",
    "predict = DT.predict(X_test)\n",
    "DT_accuracy = DT.score(X_test,y_test)"
   ]
  },
  {
   "cell_type": "code",
   "execution_count": 7,
   "id": "e863f749-7db2-4180-a927-190e34cf1849",
   "metadata": {},
   "outputs": [
    {
     "data": {
      "text/plain": [
       "0.9818181818181818"
      ]
     },
     "execution_count": 7,
     "metadata": {},
     "output_type": "execute_result"
    }
   ],
   "source": [
    "DT_accuracy"
   ]
  },
  {
   "cell_type": "code",
   "execution_count": 8,
   "id": "3df5ca27-0ac0-4451-8225-a3a1edf96db3",
   "metadata": {},
   "outputs": [],
   "source": [
    "accuracy.append(DT_accuracy)\n",
    "model.append('Decision Tree')"
   ]
  },
  {
   "cell_type": "code",
   "execution_count": 9,
   "id": "b2b3bf81-fcf8-4516-a663-bad47d4709df",
   "metadata": {},
   "outputs": [
    {
     "data": {
      "text/plain": [
       "0.9863636363636363"
      ]
     },
     "execution_count": 9,
     "metadata": {},
     "output_type": "execute_result"
    }
   ],
   "source": [
    "from sklearn.tree import DecisionTreeClassifier\n",
    "\n",
    "clf = DecisionTreeClassifier(random_state=42).fit(X_train, y_train)\n",
    "clf.score(X_test,y_test)"
   ]
  },
  {
   "cell_type": "markdown",
   "id": "39c6e76f-d7fe-4769-99ea-8ed8f4953c98",
   "metadata": {},
   "source": [
    "# Evaluation"
   ]
  },
  {
   "cell_type": "code",
   "execution_count": 10,
   "id": "68d068a9-4793-4043-990d-f30bc3f8eacf",
   "metadata": {},
   "outputs": [
    {
     "data": {
      "image/png": "[encoded data removed]",
      "text/plain": [
       "<Figure size 800x320 with 1 Axes>"
      ]
     },
     "metadata": {
      "needs_background": "light"
     },
     "output_type": "display_data"
    }
   ],
   "source": [
    "#Let's visualize the import features which are taken into consideration by decision trees.\n",
    "plt.figure(figsize=(10,4), dpi=80)\n",
    "c_features = len(X_train.columns)\n",
    "plt.barh(range(c_features), clf.feature_importances_)\n",
    "plt.xlabel(\"Feature importance\")\n",
    "plt.ylabel(\"Feature name\")\n",
    "plt.yticks(np.arange(c_features), X_train.columns)\n",
    "plt.show()"
   ]
  },
  {
   "cell_type": "code",
   "execution_count": 11,
   "id": "ad8b29df-5d3c-4cf5-9d19-712c76f7118b",
   "metadata": {},
   "outputs": [
    {
     "name": "stdout",
     "output_type": "stream",
     "text": [
      "Mean Squared Error: 2.04\n",
      "R2 Score: 0.95\n"
     ]
    }
   ],
   "source": [
    "# Evaluate the model\n",
    "mse = mean_squared_error(y_test, predict)\n",
    "r2 = r2_score(y_test, predict)\n",
    "print(f\"Mean Squared Error: {mse:.2f}\")\n",
    "print(f\"R2 Score: {r2:.2f}\")"
   ]
  },
  {
   "cell_type": "code",
   "execution_count": 12,
   "id": "3d6267c4-9acc-4191-8098-fa03af6748a7",
   "metadata": {},
   "outputs": [
    {
     "name": "stdout",
     "output_type": "stream",
     "text": [
      "accuracy_score : 0.9818181818181818\n",
      "precision_score : 0.9818181818181818\n",
      "precision_score for each class: [1.         1.         0.95238095 1.         0.96428571 1.\n",
      " 1.         1.         0.90909091 1.         0.91666667 1.\n",
      " 1.         1.         1.         1.         1.         1.\n",
      " 1.         1.         0.85       1.        ]\n",
      "recall_score : 0.9818181818181818\n",
      "recall_score for each class: [1.         1.         1.         1.         1.         1.\n",
      " 1.         1.         0.86956522 1.         1.         0.95238095\n",
      " 1.         0.91666667 1.         1.         1.         1.\n",
      " 1.         1.         0.89473684 1.        ]\n"
     ]
    }
   ],
   "source": [
    "accuracy = accuracy_score(y_test, predict)\n",
    "\n",
    "precision = precision_score(y_test, predict, average=\"micro\")\n",
    "precision_each_class = precision_score(y_test, predict, average=None)\n",
    "\n",
    "recall = recall_score(y_test, predict, average=\"micro\")\n",
    "recall_each_class = recall_score(y_test, predict, average=None)\n",
    "\n",
    "print(\"accuracy_score : \" + str(accuracy))\n",
    "print(\"precision_score : \" + str(precision))\n",
    "print(\"precision_score for each class: \" + str(precision_each_class))\n",
    "print(\"recall_score : \" + str(recall))\n",
    "print(\"recall_score for each class: \" + str(recall_each_class))"
   ]
  },
  {
   "cell_type": "code",
   "execution_count": 13,
   "id": "ddaa1259-54ed-4f8b-8c0a-db7571852832",
   "metadata": {},
   "outputs": [],
   "source": [
    "roc_auc = roc_auc_score(y_test, clf.predict_proba(X_test), multi_class = \"ovo\")"
   ]
  },
  {
   "cell_type": "code",
   "execution_count": 14,
   "id": "c2e2de00-c017-4915-aa2f-e5dbe31a23d1",
   "metadata": {},
   "outputs": [
    {
     "data": {
      "text/plain": [
       "0.9933406238162693"
      ]
     },
     "execution_count": 14,
     "metadata": {},
     "output_type": "execute_result"
    }
   ],
   "source": [
    "roc_auc"
   ]
  },
  {
   "cell_type": "code",
   "execution_count": 15,
   "id": "5bb70bcd-d0d5-4a47-967c-a65c2e2504fc",
   "metadata": {},
   "outputs": [],
   "source": [
    "# Calculate the accuracy, confusion matrix, and classification report\n",
    "accuracy = accuracy_score(y_test, predict)\n",
    "confusion_mat = confusion_matrix(y_test, predict)\n",
    "classification_rep = classification_report(y_test, predict)"
   ]
  },
  {
   "cell_type": "code",
   "execution_count": 16,
   "id": "6d065cca-8282-4ad8-97e2-d8ebe99b331e",
   "metadata": {},
   "outputs": [
    {
     "name": "stdout",
     "output_type": "stream",
     "text": [
      "Accuracy: 0.9818181818181818\n",
      "Confusion Matrix:\n",
      " [[23  0  0  0  0  0  0  0  0  0  0  0  0  0  0  0  0  0  0  0  0  0]\n",
      " [ 0 21  0  0  0  0  0  0  0  0  0  0  0  0  0  0  0  0  0  0  0  0]\n",
      " [ 0  0 20  0  0  0  0  0  0  0  0  0  0  0  0  0  0  0  0  0  0  0]\n",
      " [ 0  0  0 26  0  0  0  0  0  0  0  0  0  0  0  0  0  0  0  0  0  0]\n",
      " [ 0  0  0  0 27  0  0  0  0  0  0  0  0  0  0  0  0  0  0  0  0  0]\n",
      " [ 0  0  0  0  0 17  0  0  0  0  0  0  0  0  0  0  0  0  0  0  0  0]\n",
      " [ 0  0  0  0  0  0 17  0  0  0  0  0  0  0  0  0  0  0  0  0  0  0]\n",
      " [ 0  0  0  0  0  0  0 14  0  0  0  0  0  0  0  0  0  0  0  0  0  0]\n",
      " [ 0  0  0  0  0  0  0  0 20  0  0  0  0  0  0  0  0  0  0  0  3  0]\n",
      " [ 0  0  0  0  0  0  0  0  0 20  0  0  0  0  0  0  0  0  0  0  0  0]\n",
      " [ 0  0  0  0  0  0  0  0  0  0 11  0  0  0  0  0  0  0  0  0  0  0]\n",
      " [ 0  0  0  0  1  0  0  0  0  0  0 20  0  0  0  0  0  0  0  0  0  0]\n",
      " [ 0  0  0  0  0  0  0  0  0  0  0  0 19  0  0  0  0  0  0  0  0  0]\n",
      " [ 0  0  1  0  0  0  0  0  0  0  1  0  0 22  0  0  0  0  0  0  0  0]\n",
      " [ 0  0  0  0  0  0  0  0  0  0  0  0  0  0 19  0  0  0  0  0  0  0]\n",
      " [ 0  0  0  0  0  0  0  0  0  0  0  0  0  0  0 17  0  0  0  0  0  0]\n",
      " [ 0  0  0  0  0  0  0  0  0  0  0  0  0  0  0  0 14  0  0  0  0  0]\n",
      " [ 0  0  0  0  0  0  0  0  0  0  0  0  0  0  0  0  0 23  0  0  0  0]\n",
      " [ 0  0  0  0  0  0  0  0  0  0  0  0  0  0  0  0  0  0 23  0  0  0]\n",
      " [ 0  0  0  0  0  0  0  0  0  0  0  0  0  0  0  0  0  0  0 23  0  0]\n",
      " [ 0  0  0  0  0  0  0  0  2  0  0  0  0  0  0  0  0  0  0  0 17  0]\n",
      " [ 0  0  0  0  0  0  0  0  0  0  0  0  0  0  0  0  0  0  0  0  0 19]]\n",
      "Classification Report:\n",
      "               precision    recall  f1-score   support\n",
      "\n",
      "           0       1.00      1.00      1.00        23\n",
      "           1       1.00      1.00      1.00        21\n",
      "           2       0.95      1.00      0.98        20\n",
      "           3       1.00      1.00      1.00        26\n",
      "           4       0.96      1.00      0.98        27\n",
      "           5       1.00      1.00      1.00        17\n",
      "           6       1.00      1.00      1.00        17\n",
      "           7       1.00      1.00      1.00        14\n",
      "           8       0.91      0.87      0.89        23\n",
      "           9       1.00      1.00      1.00        20\n",
      "          10       0.92      1.00      0.96        11\n",
      "          11       1.00      0.95      0.98        21\n",
      "          12       1.00      1.00      1.00        19\n",
      "          13       1.00      0.92      0.96        24\n",
      "          14       1.00      1.00      1.00        19\n",
      "          15       1.00      1.00      1.00        17\n",
      "          16       1.00      1.00      1.00        14\n",
      "          17       1.00      1.00      1.00        23\n",
      "          18       1.00      1.00      1.00        23\n",
      "          19       1.00      1.00      1.00        23\n",
      "          20       0.85      0.89      0.87        19\n",
      "          21       1.00      1.00      1.00        19\n",
      "\n",
      "    accuracy                           0.98       440\n",
      "   macro avg       0.98      0.98      0.98       440\n",
      "weighted avg       0.98      0.98      0.98       440\n",
      "\n"
     ]
    }
   ],
   "source": [
    "#checking the accuracy of the model\n",
    "print(\"Accuracy:\", accuracy)\n",
    "print(\"Confusion Matrix:\\n\", confusion_mat)\n",
    "print(\"Classification Report:\\n\", classification_rep)"
   ]
  },
  {
   "cell_type": "code",
   "execution_count": 17,
   "id": "15a1b855-89af-41c8-bb2a-e58a9ec30432",
   "metadata": {},
   "outputs": [
    {
     "data": {
      "image/png": "[encoded data removed]",
      "text/plain": [
       "<Figure size 432x288 with 2 Axes>"
      ]
     },
     "metadata": {
      "needs_background": "light"
     },
     "output_type": "display_data"
    }
   ],
   "source": [
    "#Create a heatmap of the confusion matrix\n",
    "sns.heatmap(confusion_mat, annot=True, cmap='coolwarm')\n",
    "plt.xlabel('Predicted')\n",
    "plt.ylabel('True')\n",
    "plt.title('Confusion Matrix')\n",
    "plt.show()"
   ]
  },
  {
   "cell_type": "markdown",
   "id": "b862ea7a-e10b-459e-80c5-6f1ff62cd0d0",
   "metadata": {},
   "source": [
    "# Saving Model for Testing"
   ]
  },
  {
   "cell_type": "markdown",
   "id": "94cf6b3a-e6f1-45c5-8957-e244b7172e18",
   "metadata": {},
   "source": [
    "##### Pickle approach"
   ]
  },
  {
   "cell_type": "code",
   "execution_count": 18,
   "id": "39284ced-5180-4fd2-b0c2-f58a33f00e4a",
   "metadata": {},
   "outputs": [],
   "source": [
    "import pickle"
   ]
  },
  {
   "cell_type": "code",
   "execution_count": 19,
   "id": "22a7a16d-4b9e-4ac1-9858-6633db9cea84",
   "metadata": {},
   "outputs": [],
   "source": [
    "# Save the Model to file in the current working directory\n",
    "\n",
    "Pkl_Filename = \"Pickle_DecisionTree_Model.pkl\"  \n",
    "\n",
    "with open(Pkl_Filename, 'wb') as file:  \n",
    "    pickle.dump(DT, file)"
   ]
  },
  {
   "cell_type": "code",
   "execution_count": 20,
   "id": "db7e0deb-d125-4ef4-89f7-e3b960102314",
   "metadata": {},
   "outputs": [
    {
     "data": {
      "text/plain": [
       "DecisionTreeClassifier()"
      ]
     },
     "execution_count": 20,
     "metadata": {},
     "output_type": "execute_result"
    }
   ],
   "source": [
    "# Load the Model back from file\n",
    "with open(Pkl_Filename, 'rb') as file:  \n",
    "    Pickle_DecisionTree_Model = pickle.load(file)\n",
    "\n",
    "Pickle_DecisionTree_Model"
   ]
  },
  {
   "cell_type": "code",
   "execution_count": 21,
   "id": "3e9fb3bb-f8b6-4a39-9672-b5c7d4a2e1f5",
   "metadata": {},
   "outputs": [
    {
     "name": "stdout",
     "output_type": "stream",
     "text": [
      "Test score: 98.18 %\n"
     ]
    },
    {
     "data": {
      "text/plain": [
       "array([15, 21, 17, 17,  0, 12,  0, 13, 14, 10,  2,  4, 19,  8,  4, 19,  0,\n",
       "       11, 17, 15,  5, 17, 16, 17,  3,  8, 14, 16, 18, 20, 19, 13,  8, 10,\n",
       "        8,  2,  8,  3,  3,  9, 17, 12,  2, 11, 14, 11, 18,  4, 15, 11,  2,\n",
       "        5,  7, 14,  5,  9,  6,  0,  1,  2, 21,  4, 10, 16, 17, 18, 16, 20,\n",
       "       15, 18, 15,  4,  8,  1,  2, 17,  1,  6, 21, 16,  5,  3, 20, 13, 16,\n",
       "       12,  5, 13,  2, 19, 11, 13,  6, 17, 18, 13,  9,  5,  2, 10,  4, 20,\n",
       "       16, 15, 21,  9, 21,  1, 18, 13,  1,  8,  6, 19, 18,  3, 11,  4, 19,\n",
       "       20, 18,  7,  2,  4,  3,  2,  4, 11,  1, 13,  1,  9, 19,  3,  4, 16,\n",
       "       18,  1,  1,  0,  9, 15, 14, 13,  4,  4,  0,  4,  9,  2, 14, 10, 21,\n",
       "       14, 18, 18, 18,  9, 11,  8,  3,  0, 16,  6, 20,  4,  7, 10, 21,  7,\n",
       "        7,  2, 19,  3,  4, 11, 10,  7, 21,  8,  5,  5,  9,  8, 13,  9,  1,\n",
       "        9,  4, 17, 17, 14, 12, 19, 21,  9, 11,  0,  2,  3,  7,  7,  1,  6,\n",
       "       20, 19, 14,  1,  8, 14, 11,  3,  3,  3,  0, 20,  9, 17,  5,  2,  9,\n",
       "       12, 12,  4, 17,  0,  3, 19,  3, 15,  0, 15, 15, 12, 12,  6,  4, 19,\n",
       "       20, 15,  5, 17, 13, 11, 12, 15, 18, 14,  5,  7,  4,  6, 18, 20,  0,\n",
       "       19,  5,  3,  6, 20, 12,  1, 17,  0,  3, 20, 18, 13, 14,  8, 19,  7,\n",
       "       13,  8, 11,  4, 11,  3,  1,  8,  4,  8, 12, 15,  0,  1, 18,  2, 16,\n",
       "        3, 21,  1,  0,  3,  5, 18, 16,  0,  4, 17, 21, 13, 17,  3, 19,  3,\n",
       "       17, 10,  0, 19,  3, 12,  3, 19, 21,  9, 14, 15, 21,  9, 15, 12,  8,\n",
       "        2,  3,  1,  2, 18, 17, 18, 14,  4,  6,  7,  0, 10,  1,  8,  0, 19,\n",
       "        0, 14, 15,  5,  5, 18, 20,  9,  1, 11,  8, 11, 18, 12,  9, 19, 21,\n",
       "        2, 11, 20, 13,  9, 12,  6, 17, 13,  6, 14, 16, 20,  2, 14,  5,  1,\n",
       "       18, 17,  0, 19, 11, 12,  4,  0, 10,  8, 13, 10,  4,  2,  8, 14,  6,\n",
       "       21,  0,  7,  4,  7, 21, 20, 12, 12,  5, 19,  1,  7,  8, 16,  6, 12,\n",
       "       17, 15, 13,  8,  3, 13, 19, 21, 13,  6, 17, 21, 10, 20,  4, 13, 13,\n",
       "       11, 20, 11,  4, 16, 19,  9, 21, 14,  2, 20, 20,  6,  6, 18])"
      ]
     },
     "execution_count": 21,
     "metadata": {},
     "output_type": "execute_result"
    }
   ],
   "source": [
    "# Use the Reloaded Model to \n",
    "# Calculate the accuracy score and predict target values\n",
    "\n",
    "# Calculate the Score \n",
    "score = Pickle_DecisionTree_Model.score(X_test, y_test)  \n",
    "# Print the Score\n",
    "print(\"Test score: {0:.2f} %\".format(100 * score))  \n",
    "\n",
    "# Predict the Labels using the reloaded Model\n",
    "Ypredict = Pickle_DecisionTree_Model.predict(X_test)  \n",
    "\n",
    "Ypredict"
   ]
  }
 ],
 "metadata": {
  "kernelspec": {
   "display_name": "Python 3 (ipykernel)",
   "language": "python",
   "name": "python3"
  },
  "language_info": {
   "codemirror_mode": {
    "name": "ipython",
    "version": 3
   },
   "file_extension": ".py",
   "mimetype": "text/x-python",
   "name": "python",
   "nbconvert_exporter": "python",
   "pygments_lexer": "ipython3",
   "version": "3.9.12"
  }
 },
 "nbformat": 4,
 "nbformat_minor": 5
}
