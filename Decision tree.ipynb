{
 "cells": [
  {
   "cell_type": "code",
   "execution_count": 1,
   "id": "2641c41a-73de-467e-909c-9f8e93e7ba76",
   "metadata": {},
   "outputs": [],
   "source": [
    "import pandas as pd\n",
    "import numpy as np\n",
    "import seaborn as sns\n",
    "import matplotlib.pyplot as plt\n",
    "from sklearn.metrics import classification_report, roc_auc_score, confusion_matrix, accuracy_score\n",
    "%matplotlib inline"
   ]
  },
  {
   "cell_type": "markdown",
   "id": "ddc1b193-951e-4fe2-a82f-2437c6427cab",
   "metadata": {},
   "source": [
    "# Load  Data"
   ]
  },
  {
   "cell_type": "code",
   "execution_count": 2,
   "id": "c2130baa-3e2a-4b38-9ff5-dc60bf30ee67",
   "metadata": {},
   "outputs": [
    {
     "data": {
      "text/html": [
       "<div>\n",
       "<style scoped>\n",
       "    .dataframe tbody tr th:only-of-type {\n",
       "        vertical-align: middle;\n",
       "    }\n",
       "\n",
       "    .dataframe tbody tr th {\n",
       "        vertical-align: top;\n",
       "    }\n",
       "\n",
       "    .dataframe thead th {\n",
       "        text-align: right;\n",
       "    }\n",
       "</style>\n",
       "<table border=\"1\" class=\"dataframe\">\n",
       "  <thead>\n",
       "    <tr style=\"text-align: right;\">\n",
       "      <th></th>\n",
       "      <th>N</th>\n",
       "      <th>P</th>\n",
       "      <th>K</th>\n",
       "      <th>temperature</th>\n",
       "      <th>humidity</th>\n",
       "      <th>ph</th>\n",
       "      <th>rainfall</th>\n",
       "    </tr>\n",
       "  </thead>\n",
       "  <tbody>\n",
       "    <tr>\n",
       "      <th>0</th>\n",
       "      <td>90</td>\n",
       "      <td>42</td>\n",
       "      <td>43</td>\n",
       "      <td>20.879744</td>\n",
       "      <td>82.002744</td>\n",
       "      <td>6.502985</td>\n",
       "      <td>202.935536</td>\n",
       "    </tr>\n",
       "    <tr>\n",
       "      <th>1</th>\n",
       "      <td>85</td>\n",
       "      <td>58</td>\n",
       "      <td>41</td>\n",
       "      <td>21.770462</td>\n",
       "      <td>80.319644</td>\n",
       "      <td>7.038096</td>\n",
       "      <td>226.655537</td>\n",
       "    </tr>\n",
       "    <tr>\n",
       "      <th>2</th>\n",
       "      <td>60</td>\n",
       "      <td>55</td>\n",
       "      <td>44</td>\n",
       "      <td>23.004459</td>\n",
       "      <td>82.320763</td>\n",
       "      <td>7.840207</td>\n",
       "      <td>263.964248</td>\n",
       "    </tr>\n",
       "    <tr>\n",
       "      <th>3</th>\n",
       "      <td>74</td>\n",
       "      <td>35</td>\n",
       "      <td>40</td>\n",
       "      <td>26.491096</td>\n",
       "      <td>80.158363</td>\n",
       "      <td>6.980401</td>\n",
       "      <td>242.864034</td>\n",
       "    </tr>\n",
       "    <tr>\n",
       "      <th>4</th>\n",
       "      <td>78</td>\n",
       "      <td>42</td>\n",
       "      <td>42</td>\n",
       "      <td>20.130175</td>\n",
       "      <td>81.604873</td>\n",
       "      <td>7.628473</td>\n",
       "      <td>262.717340</td>\n",
       "    </tr>\n",
       "  </tbody>\n",
       "</table>\n",
       "</div>"
      ],
      "text/plain": [
       "    N   P   K  temperature   humidity        ph    rainfall\n",
       "0  90  42  43    20.879744  82.002744  6.502985  202.935536\n",
       "1  85  58  41    21.770462  80.319644  7.038096  226.655537\n",
       "2  60  55  44    23.004459  82.320763  7.840207  263.964248\n",
       "3  74  35  40    26.491096  80.158363  6.980401  242.864034\n",
       "4  78  42  42    20.130175  81.604873  7.628473  262.717340"
      ]
     },
     "execution_count": 2,
     "metadata": {},
     "output_type": "execute_result"
    }
   ],
   "source": [
    "data = pd.read_csv('Crop_recommendation.csv')\n",
    "X = data.drop('label' ,axis =1)\n",
    "X.head()"
   ]
  },
  {
   "cell_type": "code",
   "execution_count": 3,
   "id": "2f809782-7329-4989-9d7f-21015deb378b",
   "metadata": {},
   "outputs": [
    {
     "data": {
      "text/plain": [
       "0    rice\n",
       "1    rice\n",
       "2    rice\n",
       "3    rice\n",
       "4    rice\n",
       "Name: label, dtype: object"
      ]
     },
     "execution_count": 3,
     "metadata": {},
     "output_type": "execute_result"
    }
   ],
   "source": [
    "y = data['label']\n",
    "y.head()"
   ]
  },
  {
   "cell_type": "code",
   "execution_count": 4,
   "id": "c2f93d78-d629-404e-898c-e6a62473e018",
   "metadata": {},
   "outputs": [],
   "source": [
    "model = []\n",
    "accuracy = []"
   ]
  },
  {
   "cell_type": "markdown",
   "id": "40ff2fe9-a78d-489b-acd4-6b55d80eb47f",
   "metadata": {},
   "source": [
    "# Model Training"
   ]
  },
  {
   "cell_type": "code",
   "execution_count": 5,
   "id": "7248c2e1-d721-4c58-8ff9-d73af69dc635",
   "metadata": {},
   "outputs": [],
   "source": [
    "from sklearn.model_selection import train_test_split\n",
    "X_train,X_test,y_train,y_test = train_test_split(X,y,test_size = 0.2)\n",
    "\n",
    "from sklearn.tree import DecisionTreeClassifier\n",
    "DT = DecisionTreeClassifier().fit(X_train, y_train)\n",
    "\n",
    "predict = DT.predict(X_test)\n",
    "DT_accuracy = DT.score(X_test,y_test)"
   ]
  },
  {
   "cell_type": "code",
   "execution_count": 6,
   "id": "e863f749-7db2-4180-a927-190e34cf1849",
   "metadata": {},
   "outputs": [
    {
     "data": {
      "text/plain": [
       "0.9931818181818182"
      ]
     },
     "execution_count": 6,
     "metadata": {},
     "output_type": "execute_result"
    }
   ],
   "source": [
    "DT_accuracy"
   ]
  },
  {
   "cell_type": "code",
   "execution_count": 7,
   "id": "3df5ca27-0ac0-4451-8225-a3a1edf96db3",
   "metadata": {},
   "outputs": [],
   "source": [
    "DT_train_accuracy = DT.score(X_train, y_train)"
   ]
  },
  {
   "cell_type": "code",
   "execution_count": 8,
   "id": "6190a00c-00a1-4042-8735-f6f469d23132",
   "metadata": {},
   "outputs": [
    {
     "data": {
      "text/plain": [
       "1.0"
      ]
     },
     "execution_count": 8,
     "metadata": {},
     "output_type": "execute_result"
    }
   ],
   "source": [
    "DT_train_accuracy"
   ]
  },
  {
   "cell_type": "markdown",
   "id": "39c6e76f-d7fe-4769-99ea-8ed8f4953c98",
   "metadata": {},
   "source": [
    "# Evaluation"
   ]
  },
  {
   "cell_type": "code",
   "execution_count": 9,
   "id": "68d068a9-4793-4043-990d-f30bc3f8eacf",
   "metadata": {},
   "outputs": [
    {
     "data": {
      "image/png": "[encoded data removed]",
      "text/plain": [
       "<Figure size 800x320 with 1 Axes>"
      ]
     },
     "metadata": {
      "needs_background": "light"
     },
     "output_type": "display_data"
    }
   ],
   "source": [
    "#Let's visualize the import features which are taken into consideration by decision trees.\n",
    "plt.figure(figsize=(10,4), dpi=80)\n",
    "c_features = len(X_train.columns)\n",
    "plt.barh(range(c_features), DT.feature_importances_)\n",
    "plt.xlabel(\"Feature importance\")\n",
    "plt.ylabel(\"Feature name\")\n",
    "plt.yticks(np.arange(c_features), X_train.columns)\n",
    "plt.show()"
   ]
  },
  {
   "cell_type": "code",
   "execution_count": 10,
   "id": "ddaa1259-54ed-4f8b-8c0a-db7571852832",
   "metadata": {},
   "outputs": [],
   "source": [
    "roc_auc = roc_auc_score(y_test, DT.predict_proba(X_test), multi_class = \"ovo\")"
   ]
  },
  {
   "cell_type": "code",
   "execution_count": 11,
   "id": "c2e2de00-c017-4915-aa2f-e5dbe31a23d1",
   "metadata": {},
   "outputs": [
    {
     "data": {
      "text/plain": [
       "0.9960862122626828"
      ]
     },
     "execution_count": 11,
     "metadata": {},
     "output_type": "execute_result"
    }
   ],
   "source": [
    "roc_auc"
   ]
  },
  {
   "cell_type": "code",
   "execution_count": 12,
   "id": "5bb70bcd-d0d5-4a47-967c-a65c2e2504fc",
   "metadata": {},
   "outputs": [],
   "source": [
    "# Calculate the accuracy, confusion matrix, and classification report\n",
    "accuracy = accuracy_score(y_test, predict)\n",
    "confusion_mat = confusion_matrix(y_test, predict)\n",
    "classification_rep = classification_report(y_test, predict)"
   ]
  },
  {
   "cell_type": "code",
   "execution_count": 13,
   "id": "6d065cca-8282-4ad8-97e2-d8ebe99b331e",
   "metadata": {},
   "outputs": [
    {
     "name": "stdout",
     "output_type": "stream",
     "text": [
      "Accuracy: 0.9931818181818182\n",
      "Confusion Matrix:\n",
      " [[15  0  0  0  0  0  0  0  0  0  0  0  0  0  0  0  0  0  0  0  0  0]\n",
      " [ 0 17  0  0  0  0  0  0  0  0  0  0  0  0  0  0  0  0  0  0  0  0]\n",
      " [ 0  0 16  0  0  0  0  0  0  0  0  1  0  0  0  0  0  0  0  0  0  0]\n",
      " [ 0  0  0 21  0  0  0  0  0  0  0  0  0  0  0  0  0  0  0  0  0  0]\n",
      " [ 0  0  0  0 20  0  0  0  0  0  0  0  0  0  0  0  0  0  0  0  0  0]\n",
      " [ 0  0  0  0  0 28  0  0  0  0  0  0  0  0  0  0  0  0  0  0  0  0]\n",
      " [ 0  0  0  0  0  0 18  0  0  0  0  0  0  0  0  0  0  0  0  0  0  0]\n",
      " [ 0  0  0  0  0  0  0 20  0  0  0  0  0  0  0  0  0  0  0  0  0  0]\n",
      " [ 0  0  0  0  0  0  0  0 22  0  0  0  0  0  0  0  0  0  0  0  0  0]\n",
      " [ 0  0  0  0  0  0  0  0  0 18  0  0  0  0  0  0  0  0  0  0  0  0]\n",
      " [ 0  0  0  0  0  0  0  0  0  0 17  0  0  1  0  0  0  0  0  0  0  0]\n",
      " [ 0  0  0  0  0  0  0  0  0  0  0 25  0  0  0  0  0  0  0  0  0  0]\n",
      " [ 0  0  0  0  0  0  0  0  0  0  0  0 18  0  0  0  0  0  0  0  0  0]\n",
      " [ 0  0  0  0  0  0  0  0  0  0  0  0  0 23  0  0  0  0  0  0  0  0]\n",
      " [ 0  0  0  0  0  0  0  0  0  0  0  0  0  0 15  0  0  0  0  0  0  0]\n",
      " [ 0  0  0  0  0  0  0  0  0  0  0  0  0  0  0 22  0  0  0  0  0  0]\n",
      " [ 0  0  0  0  0  0  0  0  0  0  0  0  0  0  0  0 20  0  0  0  0  0]\n",
      " [ 0  0  0  0  0  0  0  0  0  0  0  0  0  0  0  0  0 17  0  0  0  0]\n",
      " [ 0  0  0  0  0  0  0  0  0  0  0  0  0  0  0  0  0  0 27  0  0  0]\n",
      " [ 0  0  0  0  0  0  0  0  0  0  0  0  0  0  0  0  0  0  0 21  0  0]\n",
      " [ 0  0  0  0  0  0  0  0  1  0  0  0  0  0  0  0  0  0  0  0 19  0]\n",
      " [ 0  0  0  0  0  0  0  0  0  0  0  0  0  0  0  0  0  0  0  0  0 18]]\n",
      "Classification Report:\n",
      "               precision    recall  f1-score   support\n",
      "\n",
      "       apple       1.00      1.00      1.00        15\n",
      "      banana       1.00      1.00      1.00        17\n",
      "   blackgram       1.00      0.94      0.97        17\n",
      "    chickpea       1.00      1.00      1.00        21\n",
      "     coconut       1.00      1.00      1.00        20\n",
      "      coffee       1.00      1.00      1.00        28\n",
      "      cotton       1.00      1.00      1.00        18\n",
      "      grapes       1.00      1.00      1.00        20\n",
      "        jute       0.96      1.00      0.98        22\n",
      " kidneybeans       1.00      1.00      1.00        18\n",
      "      lentil       1.00      0.94      0.97        18\n",
      "       maize       0.96      1.00      0.98        25\n",
      "       mango       1.00      1.00      1.00        18\n",
      "   mothbeans       0.96      1.00      0.98        23\n",
      "    mungbean       1.00      1.00      1.00        15\n",
      "   muskmelon       1.00      1.00      1.00        22\n",
      "      orange       1.00      1.00      1.00        20\n",
      "      papaya       1.00      1.00      1.00        17\n",
      "  pigeonpeas       1.00      1.00      1.00        27\n",
      " pomegranate       1.00      1.00      1.00        21\n",
      "        rice       1.00      0.95      0.97        20\n",
      "  watermelon       1.00      1.00      1.00        18\n",
      "\n",
      "    accuracy                           0.99       440\n",
      "   macro avg       0.99      0.99      0.99       440\n",
      "weighted avg       0.99      0.99      0.99       440\n",
      "\n"
     ]
    }
   ],
   "source": [
    "#checking the accuracy of the model\n",
    "print(\"Accuracy:\", accuracy)\n",
    "print(\"Confusion Matrix:\\n\", confusion_mat)\n",
    "print(\"Classification Report:\\n\", classification_rep)"
   ]
  },
  {
   "cell_type": "code",
   "execution_count": 14,
   "id": "15a1b855-89af-41c8-bb2a-e58a9ec30432",
   "metadata": {},
   "outputs": [
    {
     "data": {
      "image/png": "[encoded data removed]",
      "text/plain": [
       "<Figure size 432x288 with 2 Axes>"
      ]
     },
     "metadata": {
      "needs_background": "light"
     },
     "output_type": "display_data"
    }
   ],
   "source": [
    "#Create a heatmap of the confusion matrix\n",
    "sns.heatmap(confusion_mat, annot=True, cmap='coolwarm')\n",
    "plt.xlabel('Predicted')\n",
    "plt.ylabel('True')\n",
    "plt.title('Confusion Matrix')\n",
    "plt.show()"
   ]
  },
  {
   "cell_type": "markdown",
   "id": "b862ea7a-e10b-459e-80c5-6f1ff62cd0d0",
   "metadata": {},
   "source": [
    "# Saving Model for Testing"
   ]
  },
  {
   "cell_type": "markdown",
   "id": "94cf6b3a-e6f1-45c5-8957-e244b7172e18",
   "metadata": {},
   "source": [
    "##### Pickle approach"
   ]
  },
  {
   "cell_type": "code",
   "execution_count": 15,
   "id": "39284ced-5180-4fd2-b0c2-f58a33f00e4a",
   "metadata": {},
   "outputs": [],
   "source": [
    "import pickle"
   ]
  },
  {
   "cell_type": "code",
   "execution_count": 16,
   "id": "22a7a16d-4b9e-4ac1-9858-6633db9cea84",
   "metadata": {},
   "outputs": [],
   "source": [
    "# Save the Model to file in the current working directory\n",
    "\n",
    "Pkl_Filename = \"Pickle_DecisionTree_Model.pkl\"  \n",
    "\n",
    "with open(Pkl_Filename, 'wb') as file:  \n",
    "    pickle.dump(DT, file)"
   ]
  },
  {
   "cell_type": "code",
   "execution_count": 17,
   "id": "db7e0deb-d125-4ef4-89f7-e3b960102314",
   "metadata": {},
   "outputs": [
    {
     "data": {
      "text/plain": [
       "DecisionTreeClassifier()"
      ]
     },
     "execution_count": 17,
     "metadata": {},
     "output_type": "execute_result"
    }
   ],
   "source": [
    "# Load the Model back from file\n",
    "with open(Pkl_Filename, 'rb') as file:  \n",
    "    Pickle_DecisionTree_Model = pickle.load(file)\n",
    "\n",
    "Pickle_DecisionTree_Model"
   ]
  },
  {
   "cell_type": "code",
   "execution_count": 18,
   "id": "3e9fb3bb-f8b6-4a39-9672-b5c7d4a2e1f5",
   "metadata": {},
   "outputs": [
    {
     "name": "stdout",
     "output_type": "stream",
     "text": [
      "Test score: 99.32 %\n"
     ]
    },
    {
     "data": {
      "text/plain": [
       "array(['pomegranate', 'watermelon', 'blackgram', 'coffee', 'coconut',\n",
       "       'lentil', 'muskmelon', 'grapes', 'orange', 'coffee', 'orange',\n",
       "       'coffee', 'coffee', 'banana', 'coffee', 'papaya', 'pomegranate',\n",
       "       'pomegranate', 'orange', 'coffee', 'mango', 'coconut', 'rice',\n",
       "       'pigeonpeas', 'muskmelon', 'papaya', 'mungbean', 'watermelon',\n",
       "       'coffee', 'kidneybeans', 'coffee', 'cotton', 'maize', 'muskmelon',\n",
       "       'coconut', 'blackgram', 'mungbean', 'lentil', 'watermelon',\n",
       "       'chickpea', 'kidneybeans', 'papaya', 'lentil', 'apple', 'orange',\n",
       "       'grapes', 'maize', 'watermelon', 'coffee', 'chickpea',\n",
       "       'pigeonpeas', 'lentil', 'orange', 'grapes', 'pomegranate',\n",
       "       'kidneybeans', 'pigeonpeas', 'maize', 'mothbeans', 'muskmelon',\n",
       "       'muskmelon', 'rice', 'mango', 'papaya', 'pigeonpeas', 'pigeonpeas',\n",
       "       'cotton', 'jute', 'watermelon', 'blackgram', 'maize', 'maize',\n",
       "       'apple', 'grapes', 'watermelon', 'orange', 'pomegranate', 'maize',\n",
       "       'pigeonpeas', 'pigeonpeas', 'banana', 'grapes', 'kidneybeans',\n",
       "       'banana', 'rice', 'mungbean', 'mothbeans', 'coffee', 'maize',\n",
       "       'pomegranate', 'coconut', 'lentil', 'muskmelon', 'pomegranate',\n",
       "       'jute', 'mothbeans', 'maize', 'grapes', 'orange', 'jute', 'papaya',\n",
       "       'coffee', 'watermelon', 'banana', 'cotton', 'mothbeans',\n",
       "       'chickpea', 'grapes', 'mungbean', 'coffee', 'watermelon', 'lentil',\n",
       "       'grapes', 'mothbeans', 'pigeonpeas', 'mungbean', 'banana',\n",
       "       'muskmelon', 'coconut', 'grapes', 'kidneybeans', 'muskmelon',\n",
       "       'papaya', 'banana', 'blackgram', 'mango', 'orange', 'rice',\n",
       "       'maize', 'jute', 'watermelon', 'rice', 'chickpea', 'banana',\n",
       "       'mango', 'orange', 'pigeonpeas', 'mango', 'mungbean', 'mango',\n",
       "       'rice', 'papaya', 'maize', 'apple', 'pomegranate', 'jute',\n",
       "       'blackgram', 'coffee', 'coffee', 'pigeonpeas', 'mothbeans',\n",
       "       'papaya', 'cotton', 'orange', 'orange', 'lentil', 'pomegranate',\n",
       "       'muskmelon', 'jute', 'jute', 'banana', 'rice', 'papaya', 'cotton',\n",
       "       'orange', 'muskmelon', 'chickpea', 'lentil', 'papaya', 'chickpea',\n",
       "       'cotton', 'mothbeans', 'watermelon', 'coffee', 'apple', 'lentil',\n",
       "       'jute', 'mothbeans', 'banana', 'maize', 'kidneybeans', 'cotton',\n",
       "       'orange', 'coffee', 'jute', 'maize', 'coconut', 'mango',\n",
       "       'mothbeans', 'maize', 'cotton', 'mango', 'apple', 'maize', 'mango',\n",
       "       'maize', 'coconut', 'mungbean', 'cotton', 'chickpea', 'banana',\n",
       "       'papaya', 'mango', 'mothbeans', 'mango', 'pomegranate', 'papaya',\n",
       "       'coconut', 'coconut', 'grapes', 'blackgram', 'cotton', 'banana',\n",
       "       'apple', 'mothbeans', 'mothbeans', 'mungbean', 'apple',\n",
       "       'mothbeans', 'muskmelon', 'rice', 'muskmelon', 'coconut', 'lentil',\n",
       "       'chickpea', 'watermelon', 'chickpea', 'banana', 'mothbeans',\n",
       "       'muskmelon', 'blackgram', 'banana', 'coffee', 'lentil', 'cotton',\n",
       "       'maize', 'cotton', 'cotton', 'apple', 'mango', 'papaya',\n",
       "       'pigeonpeas', 'coffee', 'banana', 'chickpea', 'chickpea',\n",
       "       'pigeonpeas', 'pomegranate', 'mothbeans', 'pomegranate', 'coffee',\n",
       "       'cotton', 'maize', 'lentil', 'rice', 'muskmelon', 'coffee',\n",
       "       'pomegranate', 'kidneybeans', 'jute', 'pomegranate', 'coconut',\n",
       "       'kidneybeans', 'mothbeans', 'rice', 'jute', 'blackgram', 'apple',\n",
       "       'coconut', 'jute', 'mango', 'maize', 'pomegranate', 'lentil',\n",
       "       'watermelon', 'blackgram', 'coconut', 'watermelon', 'rice',\n",
       "       'mothbeans', 'jute', 'jute', 'coffee', 'maize', 'cotton',\n",
       "       'watermelon', 'orange', 'jute', 'kidneybeans', 'muskmelon',\n",
       "       'maize', 'rice', 'mungbean', 'pigeonpeas', 'mothbeans', 'jute',\n",
       "       'lentil', 'grapes', 'pomegranate', 'pomegranate', 'mungbean',\n",
       "       'chickpea', 'maize', 'papaya', 'apple', 'cotton', 'chickpea',\n",
       "       'jute', 'chickpea', 'chickpea', 'pigeonpeas', 'mango', 'coffee',\n",
       "       'banana', 'cotton', 'mango', 'watermelon', 'lentil', 'blackgram',\n",
       "       'mothbeans', 'rice', 'mothbeans', 'mothbeans', 'maize',\n",
       "       'watermelon', 'banana', 'papaya', 'rice', 'mothbeans', 'jute',\n",
       "       'orange', 'grapes', 'grapes', 'blackgram', 'rice', 'apple',\n",
       "       'orange', 'kidneybeans', 'muskmelon', 'mungbean', 'muskmelon',\n",
       "       'coffee', 'mango', 'jute', 'rice', 'pigeonpeas', 'kidneybeans',\n",
       "       'chickpea', 'blackgram', 'chickpea', 'jute', 'muskmelon',\n",
       "       'coconut', 'pigeonpeas', 'chickpea', 'rice', 'coconut', 'apple',\n",
       "       'pomegranate', 'muskmelon', 'grapes', 'watermelon', 'pomegranate',\n",
       "       'grapes', 'pigeonpeas', 'jute', 'chickpea', 'mungbean', 'orange',\n",
       "       'kidneybeans', 'lentil', 'pigeonpeas', 'coconut', 'mungbean',\n",
       "       'mothbeans', 'mungbean', 'coffee', 'blackgram', 'papaya', 'grapes',\n",
       "       'kidneybeans', 'orange', 'muskmelon', 'kidneybeans', 'rice',\n",
       "       'muskmelon', 'coconut', 'coffee', 'jute', 'grapes', 'banana',\n",
       "       'coffee', 'chickpea', 'pigeonpeas', 'grapes', 'pigeonpeas',\n",
       "       'maize', 'blackgram', 'pomegranate', 'grapes', 'coconut',\n",
       "       'blackgram', 'mothbeans', 'coffee', 'cotton', 'pigeonpeas',\n",
       "       'orange', 'orange', 'coconut', 'pigeonpeas', 'mungbean', 'maize',\n",
       "       'blackgram', 'mango', 'apple', 'coconut', 'pigeonpeas',\n",
       "       'kidneybeans', 'pigeonpeas', 'rice', 'mango', 'maize',\n",
       "       'pomegranate', 'pigeonpeas', 'coffee', 'kidneybeans',\n",
       "       'kidneybeans', 'maize', 'lentil', 'muskmelon', 'watermelon',\n",
       "       'apple', 'apple', 'kidneybeans', 'chickpea', 'jute', 'pigeonpeas',\n",
       "       'grapes', 'pigeonpeas', 'papaya'], dtype=object)"
      ]
     },
     "execution_count": 18,
     "metadata": {},
     "output_type": "execute_result"
    }
   ],
   "source": [
    "# Use the Reloaded Model to \n",
    "# Calculate the accuracy score and predict target values\n",
    "\n",
    "# Calculate the Score \n",
    "score = Pickle_DecisionTree_Model.score(X_test, y_test)  \n",
    "# Print the Score\n",
    "print(\"Test score: {0:.2f} %\".format(100 * score))  \n",
    "\n",
    "# Predict the Labels using the reloaded Model\n",
    "Ypredict = Pickle_DecisionTree_Model.predict(X_test)  \n",
    "\n",
    "Ypredict"
   ]
  },
  {
   "cell_type": "code",
   "execution_count": null,
   "id": "fd3c6250",
   "metadata": {},
   "outputs": [],
   "source": []
  }
 ],
 "metadata": {
  "kernelspec": {
   "display_name": "Python 3 (ipykernel)",
   "language": "python",
   "name": "python3"
  },
  "language_info": {
   "codemirror_mode": {
    "name": "ipython",
    "version": 3
   },
   "file_extension": ".py",
   "mimetype": "text/x-python",
   "name": "python",
   "nbconvert_exporter": "python",
   "pygments_lexer": "ipython3",
   "version": "3.9.12"
  }
 },
 "nbformat": 4,
 "nbformat_minor": 5
}
